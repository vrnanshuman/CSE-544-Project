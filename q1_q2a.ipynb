{
 "cells": [
  {
   "cell_type": "code",
   "execution_count": 7,
   "id": "3fccb726",
   "metadata": {},
   "outputs": [],
   "source": [
    "# Import libraries\n",
    "\n",
    "import pandas as pd\n",
    "import numpy as np\n",
    "import matplotlib.pyplot as plt\n",
    "import seaborn as sns"
   ]
  },
  {
   "cell_type": "code",
   "execution_count": 8,
   "id": "f452a5d6",
   "metadata": {},
   "outputs": [
    {
     "data": {
      "text/html": [
       "<div>\n",
       "<style scoped>\n",
       "    .dataframe tbody tr th:only-of-type {\n",
       "        vertical-align: middle;\n",
       "    }\n",
       "\n",
       "    .dataframe tbody tr th {\n",
       "        vertical-align: top;\n",
       "    }\n",
       "\n",
       "    .dataframe thead th {\n",
       "        text-align: right;\n",
       "    }\n",
       "</style>\n",
       "<table border=\"1\" class=\"dataframe\">\n",
       "  <thead>\n",
       "    <tr style=\"text-align: right;\">\n",
       "      <th></th>\n",
       "      <th>submission_date</th>\n",
       "      <th>state</th>\n",
       "      <th>tot_cases</th>\n",
       "      <th>conf_cases</th>\n",
       "      <th>prob_cases</th>\n",
       "      <th>new_case</th>\n",
       "      <th>pnew_case</th>\n",
       "      <th>tot_death</th>\n",
       "      <th>conf_death</th>\n",
       "      <th>prob_death</th>\n",
       "      <th>new_death</th>\n",
       "      <th>pnew_death</th>\n",
       "      <th>created_at</th>\n",
       "      <th>consent_cases</th>\n",
       "      <th>consent_deaths</th>\n",
       "    </tr>\n",
       "  </thead>\n",
       "  <tbody>\n",
       "    <tr>\n",
       "      <th>13615</th>\n",
       "      <td>2022-05-09</td>\n",
       "      <td>WY</td>\n",
       "      <td>156745</td>\n",
       "      <td>123664.0</td>\n",
       "      <td>33081.0</td>\n",
       "      <td>0</td>\n",
       "      <td>0.0</td>\n",
       "      <td>1814</td>\n",
       "      <td>1814.0</td>\n",
       "      <td>0.0</td>\n",
       "      <td>0</td>\n",
       "      <td>0.0</td>\n",
       "      <td>05/10/2022 01:23:16 PM</td>\n",
       "      <td>Agree</td>\n",
       "      <td>Agree</td>\n",
       "    </tr>\n",
       "    <tr>\n",
       "      <th>13750</th>\n",
       "      <td>2022-05-10</td>\n",
       "      <td>WY</td>\n",
       "      <td>157031</td>\n",
       "      <td>123889.0</td>\n",
       "      <td>33142.0</td>\n",
       "      <td>286</td>\n",
       "      <td>61.0</td>\n",
       "      <td>1817</td>\n",
       "      <td>1817.0</td>\n",
       "      <td>0.0</td>\n",
       "      <td>3</td>\n",
       "      <td>0.0</td>\n",
       "      <td>05/11/2022 01:51:16 PM</td>\n",
       "      <td>Agree</td>\n",
       "      <td>Agree</td>\n",
       "    </tr>\n",
       "    <tr>\n",
       "      <th>47119</th>\n",
       "      <td>2022-05-11</td>\n",
       "      <td>WY</td>\n",
       "      <td>157031</td>\n",
       "      <td>123889.0</td>\n",
       "      <td>33142.0</td>\n",
       "      <td>0</td>\n",
       "      <td>0.0</td>\n",
       "      <td>1817</td>\n",
       "      <td>1817.0</td>\n",
       "      <td>0.0</td>\n",
       "      <td>0</td>\n",
       "      <td>0.0</td>\n",
       "      <td>05/12/2022 01:16:14 PM</td>\n",
       "      <td>Agree</td>\n",
       "      <td>Agree</td>\n",
       "    </tr>\n",
       "    <tr>\n",
       "      <th>13664</th>\n",
       "      <td>2022-05-12</td>\n",
       "      <td>WY</td>\n",
       "      <td>157031</td>\n",
       "      <td>123889.0</td>\n",
       "      <td>33142.0</td>\n",
       "      <td>0</td>\n",
       "      <td>0.0</td>\n",
       "      <td>1817</td>\n",
       "      <td>1817.0</td>\n",
       "      <td>0.0</td>\n",
       "      <td>0</td>\n",
       "      <td>0.0</td>\n",
       "      <td>05/13/2022 01:28:57 PM</td>\n",
       "      <td>Agree</td>\n",
       "      <td>Agree</td>\n",
       "    </tr>\n",
       "    <tr>\n",
       "      <th>49103</th>\n",
       "      <td>2022-05-13</td>\n",
       "      <td>WY</td>\n",
       "      <td>157031</td>\n",
       "      <td>123889.0</td>\n",
       "      <td>33142.0</td>\n",
       "      <td>0</td>\n",
       "      <td>0.0</td>\n",
       "      <td>1817</td>\n",
       "      <td>1817.0</td>\n",
       "      <td>0.0</td>\n",
       "      <td>0</td>\n",
       "      <td>0.0</td>\n",
       "      <td>05/14/2022 01:28:26 PM</td>\n",
       "      <td>Agree</td>\n",
       "      <td>Agree</td>\n",
       "    </tr>\n",
       "  </tbody>\n",
       "</table>\n",
       "</div>"
      ],
      "text/plain": [
       "      submission_date state  tot_cases  conf_cases  prob_cases  new_case  \\\n",
       "13615      2022-05-09    WY     156745    123664.0     33081.0         0   \n",
       "13750      2022-05-10    WY     157031    123889.0     33142.0       286   \n",
       "47119      2022-05-11    WY     157031    123889.0     33142.0         0   \n",
       "13664      2022-05-12    WY     157031    123889.0     33142.0         0   \n",
       "49103      2022-05-13    WY     157031    123889.0     33142.0         0   \n",
       "\n",
       "       pnew_case  tot_death  conf_death  prob_death  new_death  pnew_death  \\\n",
       "13615        0.0       1814      1814.0         0.0          0         0.0   \n",
       "13750       61.0       1817      1817.0         0.0          3         0.0   \n",
       "47119        0.0       1817      1817.0         0.0          0         0.0   \n",
       "13664        0.0       1817      1817.0         0.0          0         0.0   \n",
       "49103        0.0       1817      1817.0         0.0          0         0.0   \n",
       "\n",
       "                   created_at consent_cases consent_deaths  \n",
       "13615  05/10/2022 01:23:16 PM         Agree          Agree  \n",
       "13750  05/11/2022 01:51:16 PM         Agree          Agree  \n",
       "47119  05/12/2022 01:16:14 PM         Agree          Agree  \n",
       "13664  05/13/2022 01:28:57 PM         Agree          Agree  \n",
       "49103  05/14/2022 01:28:26 PM         Agree          Agree  "
      ]
     },
     "execution_count": 8,
     "metadata": {},
     "output_type": "execute_result"
    }
   ],
   "source": [
    "# Load covid cases dataset\n",
    "\n",
    "covid_cases_df = pd.read_csv('United_States_COVID-19_Cases_and_Deaths_by_State_over_Time.csv')\n",
    "# # convert date to standard format\n",
    "covid_cases_df['submission_date'] = pd.to_datetime(covid_cases_df['submission_date'])\n",
    "# covid_cases_df = covid_cases_df.sort_values(by=['submission_date'])\n",
    "covid_cases_df.sort_values(by=['state', 'submission_date']).tail(5)"
   ]
  },
  {
   "cell_type": "code",
   "execution_count": 9,
   "id": "f3e5710f",
   "metadata": {},
   "outputs": [
    {
     "data": {
      "text/plain": [
       "submission_date      843\n",
       "state                 60\n",
       "tot_cases          37945\n",
       "conf_cases         22999\n",
       "prob_cases         16590\n",
       "new_case            7586\n",
       "pnew_case           2973\n",
       "tot_death          16950\n",
       "conf_death         12686\n",
       "prob_death          3884\n",
       "new_death            505\n",
       "pnew_death           320\n",
       "created_at          1898\n",
       "consent_cases          2\n",
       "consent_deaths         2\n",
       "dtype: int64"
      ]
     },
     "execution_count": 9,
     "metadata": {},
     "output_type": "execute_result"
    }
   ],
   "source": [
    "covid_cases_df.nunique()"
   ]
  },
  {
   "cell_type": "code",
   "execution_count": 10,
   "id": "a6b71a70",
   "metadata": {},
   "outputs": [
    {
     "name": "stdout",
     "output_type": "stream",
     "text": [
      "<class 'pandas.core.frame.DataFrame'>\n",
      "DatetimeIndex: 50580 entries, 2021-12-01 to 2021-11-06\n",
      "Data columns (total 14 columns):\n",
      " #   Column           Non-Null Count  Dtype  \n",
      "---  ------           --------------  -----  \n",
      " 0   state            50580 non-null  object \n",
      " 1   total_cases_cum  50580 non-null  int64  \n",
      " 2   conf_cases_cum   28012 non-null  float64\n",
      " 3   prob_cases       27940 non-null  float64\n",
      " 4   new_case         50580 non-null  int64  \n",
      " 5   pnew_case        46878 non-null  float64\n",
      " 6   total_death_cum  50580 non-null  int64  \n",
      " 7   conf_death_cum   27567 non-null  float64\n",
      " 8   prob_death       27567 non-null  float64\n",
      " 9   new_death        50580 non-null  int64  \n",
      " 10  pnew_death       46910 non-null  float64\n",
      " 11  created_at       50580 non-null  object \n",
      " 12  consent_cases    42145 non-null  object \n",
      " 13  consent_deaths   42993 non-null  object \n",
      "dtypes: float64(6), int64(4), object(4)\n",
      "memory usage: 5.8+ MB\n"
     ]
    }
   ],
   "source": [
    "covid_cases_df.rename(columns = {'submission_date':'date', \n",
    "                                 'tot_cases':'total_cases_cum', \n",
    "                                 'conf_cases': 'conf_cases_cum',\n",
    "                                 'tot_death':'total_death_cum', \n",
    "                                 'conf_death': 'conf_death_cum',\n",
    "                                }, \n",
    "                      inplace = True)\n",
    "covid_cases_df = covid_cases_df.set_index('date')\n",
    "covid_cases_df.info()\n",
    "#  Covid cases dataset consists of #cases, #deaths and state in the date range from 01/22/2020 till "
   ]
  },
  {
   "cell_type": "code",
   "execution_count": 11,
   "id": "194aa5e1",
   "metadata": {
    "scrolled": false
   },
   "outputs": [
    {
     "data": {
      "text/html": [
       "<div>\n",
       "<style scoped>\n",
       "    .dataframe tbody tr th:only-of-type {\n",
       "        vertical-align: middle;\n",
       "    }\n",
       "\n",
       "    .dataframe tbody tr th {\n",
       "        vertical-align: top;\n",
       "    }\n",
       "\n",
       "    .dataframe thead th {\n",
       "        text-align: right;\n",
       "    }\n",
       "</style>\n",
       "<table border=\"1\" class=\"dataframe\">\n",
       "  <thead>\n",
       "    <tr style=\"text-align: right;\">\n",
       "      <th></th>\n",
       "      <th>MT_total_cases_cum</th>\n",
       "      <th>MT_total_death_cum</th>\n",
       "      <th>new_case</th>\n",
       "      <th>new_death</th>\n",
       "      <th>MT_total_cases</th>\n",
       "      <th>MT_total_death</th>\n",
       "    </tr>\n",
       "    <tr>\n",
       "      <th>date</th>\n",
       "      <th></th>\n",
       "      <th></th>\n",
       "      <th></th>\n",
       "      <th></th>\n",
       "      <th></th>\n",
       "      <th></th>\n",
       "    </tr>\n",
       "  </thead>\n",
       "  <tbody>\n",
       "    <tr>\n",
       "      <th>2022-05-09</th>\n",
       "      <td>274598</td>\n",
       "      <td>3378</td>\n",
       "      <td>0</td>\n",
       "      <td>0</td>\n",
       "      <td>0.0</td>\n",
       "      <td>0.0</td>\n",
       "    </tr>\n",
       "    <tr>\n",
       "      <th>2022-05-10</th>\n",
       "      <td>274598</td>\n",
       "      <td>3378</td>\n",
       "      <td>0</td>\n",
       "      <td>0</td>\n",
       "      <td>0.0</td>\n",
       "      <td>0.0</td>\n",
       "    </tr>\n",
       "    <tr>\n",
       "      <th>2022-05-11</th>\n",
       "      <td>274598</td>\n",
       "      <td>3378</td>\n",
       "      <td>0</td>\n",
       "      <td>0</td>\n",
       "      <td>0.0</td>\n",
       "      <td>0.0</td>\n",
       "    </tr>\n",
       "    <tr>\n",
       "      <th>2022-05-12</th>\n",
       "      <td>274598</td>\n",
       "      <td>3378</td>\n",
       "      <td>0</td>\n",
       "      <td>0</td>\n",
       "      <td>0.0</td>\n",
       "      <td>0.0</td>\n",
       "    </tr>\n",
       "    <tr>\n",
       "      <th>2022-05-13</th>\n",
       "      <td>275113</td>\n",
       "      <td>3381</td>\n",
       "      <td>515</td>\n",
       "      <td>3</td>\n",
       "      <td>515.0</td>\n",
       "      <td>3.0</td>\n",
       "    </tr>\n",
       "  </tbody>\n",
       "</table>\n",
       "</div>"
      ],
      "text/plain": [
       "            MT_total_cases_cum  MT_total_death_cum  new_case  new_death  \\\n",
       "date                                                                      \n",
       "2022-05-09              274598                3378         0          0   \n",
       "2022-05-10              274598                3378         0          0   \n",
       "2022-05-11              274598                3378         0          0   \n",
       "2022-05-12              274598                3378         0          0   \n",
       "2022-05-13              275113                3381       515          3   \n",
       "\n",
       "            MT_total_cases  MT_total_death  \n",
       "date                                        \n",
       "2022-05-09             0.0             0.0  \n",
       "2022-05-10             0.0             0.0  \n",
       "2022-05-11             0.0             0.0  \n",
       "2022-05-12             0.0             0.0  \n",
       "2022-05-13           515.0             3.0  "
      ]
     },
     "execution_count": 11,
     "metadata": {},
     "output_type": "execute_result"
    }
   ],
   "source": [
    "# Analyze COVID19 datasets of two states\n",
    "\n",
    "# MT - Montana\n",
    "# MN - Minnesota\n",
    "\n",
    "stateMontana = 'MT'\n",
    "stateMinnesota = 'MN'\n",
    "\n",
    "columns_list = ['state', 'total_cases_cum', 'total_death_cum', 'new_case', 'new_death']\n",
    "covid_cases_for_MT = covid_cases_df.loc[:, columns_list]\n",
    "covid_cases_for_MT = covid_cases_for_MT[covid_cases_df['state'].isin([stateMontana])]\n",
    "covid_cases_for_MT.rename(columns = {'total_cases_cum':'MT_total_cases_cum', \n",
    "#                                      'conf_cases_cum': 'MT_conf_cases_cum',\n",
    "                                     'total_death_cum':'MT_total_death_cum', \n",
    "#                                      'conf_death_cum': 'MT_conf_death_cum',\n",
    "                                    }, \n",
    "                          inplace = True)\n",
    "\n",
    "# sort the data by date \n",
    "covid_cases_for_MT = covid_cases_for_MT.sort_values(by=['date'])\n",
    "\n",
    "# propagates last valid observation forward \n",
    "# covid_cases_for_MT.fillna(method='ffill', inplace=True)\n",
    "covid_cases_for_MT.fillna(0, inplace=True)\n",
    "covid_cases_for_MT = covid_cases_for_MT.drop(['state'], axis=1)\n",
    "\n",
    "# subtract the consecutive rows to get the value for a particular day before you start analyzing the data.\n",
    "covid_cases_for_MT['MT_total_cases'] = (covid_cases_for_MT['MT_total_cases_cum'] - covid_cases_for_MT['MT_total_cases_cum'].shift(1))\n",
    "# covid_cases_for_MT['MT_conf_cases'] = covid_cases_for_MT['MT_conf_cases_cum'] - covid_cases_for_MT['MT_conf_cases_cum'].shift(1)\n",
    "covid_cases_for_MT['MT_total_death'] = (covid_cases_for_MT['MT_total_death_cum'] - covid_cases_for_MT['MT_total_death_cum'].shift(1))\n",
    "# covid_cases_for_MT['MT_conf_death'] = covid_cases_for_MT['MT_conf_death_cum'] - covid_cases_for_MT['MT_conf_death_cum'].shift(1)\n",
    "covid_cases_for_MT.iloc[0, 4] = covid_cases_for_MT.iloc[0, 0]\n",
    "covid_cases_for_MT.iloc[0, 5] = covid_cases_for_MT.iloc[0, 1]\n",
    "# covid_cases_for_MT['MT_total_cases'] = covid_cases_for_MT['MT_total_cases'].astype('int64')\n",
    "# covid_cases_for_MT['MT_total_death'] = covid_cases_for_MT['MT_total_death'].astype('int64')\n",
    "# covid_cases_for_MT.iloc[0, 7] = covid_cases_for_MT.iloc[0, 3]\n",
    "\n",
    "covid_cases_for_MT.tail()"
   ]
  },
  {
   "cell_type": "code",
   "execution_count": 12,
   "id": "a19c50e7",
   "metadata": {},
   "outputs": [
    {
     "data": {
      "text/html": [
       "<div>\n",
       "<style scoped>\n",
       "    .dataframe tbody tr th:only-of-type {\n",
       "        vertical-align: middle;\n",
       "    }\n",
       "\n",
       "    .dataframe tbody tr th {\n",
       "        vertical-align: top;\n",
       "    }\n",
       "\n",
       "    .dataframe thead th {\n",
       "        text-align: right;\n",
       "    }\n",
       "</style>\n",
       "<table border=\"1\" class=\"dataframe\">\n",
       "  <thead>\n",
       "    <tr style=\"text-align: right;\">\n",
       "      <th></th>\n",
       "      <th>MT_total_cases_cum</th>\n",
       "      <th>MT_total_death_cum</th>\n",
       "      <th>new_case</th>\n",
       "      <th>new_death</th>\n",
       "      <th>MT_total_cases</th>\n",
       "      <th>MT_total_death</th>\n",
       "    </tr>\n",
       "    <tr>\n",
       "      <th>date</th>\n",
       "      <th></th>\n",
       "      <th></th>\n",
       "      <th></th>\n",
       "      <th></th>\n",
       "      <th></th>\n",
       "      <th></th>\n",
       "    </tr>\n",
       "  </thead>\n",
       "  <tbody>\n",
       "    <tr>\n",
       "      <th>2020-01-22</th>\n",
       "      <td>0</td>\n",
       "      <td>0</td>\n",
       "      <td>0</td>\n",
       "      <td>0</td>\n",
       "      <td>0.0</td>\n",
       "      <td>0.0</td>\n",
       "    </tr>\n",
       "    <tr>\n",
       "      <th>2020-01-23</th>\n",
       "      <td>0</td>\n",
       "      <td>0</td>\n",
       "      <td>0</td>\n",
       "      <td>0</td>\n",
       "      <td>0.0</td>\n",
       "      <td>0.0</td>\n",
       "    </tr>\n",
       "    <tr>\n",
       "      <th>2020-01-24</th>\n",
       "      <td>0</td>\n",
       "      <td>0</td>\n",
       "      <td>0</td>\n",
       "      <td>0</td>\n",
       "      <td>0.0</td>\n",
       "      <td>0.0</td>\n",
       "    </tr>\n",
       "    <tr>\n",
       "      <th>2020-01-25</th>\n",
       "      <td>0</td>\n",
       "      <td>0</td>\n",
       "      <td>0</td>\n",
       "      <td>0</td>\n",
       "      <td>0.0</td>\n",
       "      <td>0.0</td>\n",
       "    </tr>\n",
       "    <tr>\n",
       "      <th>2020-01-26</th>\n",
       "      <td>0</td>\n",
       "      <td>0</td>\n",
       "      <td>0</td>\n",
       "      <td>0</td>\n",
       "      <td>0.0</td>\n",
       "      <td>0.0</td>\n",
       "    </tr>\n",
       "  </tbody>\n",
       "</table>\n",
       "</div>"
      ],
      "text/plain": [
       "            MT_total_cases_cum  MT_total_death_cum  new_case  new_death  \\\n",
       "date                                                                      \n",
       "2020-01-22                   0                   0         0          0   \n",
       "2020-01-23                   0                   0         0          0   \n",
       "2020-01-24                   0                   0         0          0   \n",
       "2020-01-25                   0                   0         0          0   \n",
       "2020-01-26                   0                   0         0          0   \n",
       "\n",
       "            MT_total_cases  MT_total_death  \n",
       "date                                        \n",
       "2020-01-22             0.0             0.0  \n",
       "2020-01-23             0.0             0.0  \n",
       "2020-01-24             0.0             0.0  \n",
       "2020-01-25             0.0             0.0  \n",
       "2020-01-26             0.0             0.0  "
      ]
     },
     "execution_count": 12,
     "metadata": {},
     "output_type": "execute_result"
    }
   ],
   "source": [
    "covid_cases_for_MT.head()"
   ]
  },
  {
   "cell_type": "code",
   "execution_count": 13,
   "id": "0c42c3fb",
   "metadata": {},
   "outputs": [
    {
     "name": "stdout",
     "output_type": "stream",
     "text": [
      "True     841\n",
      "False      2\n",
      "dtype: int64\n"
     ]
    },
    {
     "data": {
      "text/html": [
       "<div>\n",
       "<style scoped>\n",
       "    .dataframe tbody tr th:only-of-type {\n",
       "        vertical-align: middle;\n",
       "    }\n",
       "\n",
       "    .dataframe tbody tr th {\n",
       "        vertical-align: top;\n",
       "    }\n",
       "\n",
       "    .dataframe thead th {\n",
       "        text-align: right;\n",
       "    }\n",
       "</style>\n",
       "<table border=\"1\" class=\"dataframe\">\n",
       "  <thead>\n",
       "    <tr style=\"text-align: right;\">\n",
       "      <th></th>\n",
       "      <th>MT_total_cases_cum</th>\n",
       "      <th>MT_total_death_cum</th>\n",
       "      <th>new_case</th>\n",
       "      <th>new_death</th>\n",
       "      <th>MT_total_cases</th>\n",
       "      <th>MT_total_death</th>\n",
       "    </tr>\n",
       "    <tr>\n",
       "      <th>date</th>\n",
       "      <th></th>\n",
       "      <th></th>\n",
       "      <th></th>\n",
       "      <th></th>\n",
       "      <th></th>\n",
       "      <th></th>\n",
       "    </tr>\n",
       "  </thead>\n",
       "  <tbody>\n",
       "    <tr>\n",
       "      <th>2021-04-09</th>\n",
       "      <td>105974</td>\n",
       "      <td>1521</td>\n",
       "      <td>152</td>\n",
       "      <td>1</td>\n",
       "      <td>224.0</td>\n",
       "      <td>27.0</td>\n",
       "    </tr>\n",
       "    <tr>\n",
       "      <th>2022-03-04</th>\n",
       "      <td>271030</td>\n",
       "      <td>3204</td>\n",
       "      <td>330</td>\n",
       "      <td>1</td>\n",
       "      <td>2080.0</td>\n",
       "      <td>1.0</td>\n",
       "    </tr>\n",
       "  </tbody>\n",
       "</table>\n",
       "</div>"
      ],
      "text/plain": [
       "            MT_total_cases_cum  MT_total_death_cum  new_case  new_death  \\\n",
       "date                                                                      \n",
       "2021-04-09              105974                1521       152          1   \n",
       "2022-03-04              271030                3204       330          1   \n",
       "\n",
       "            MT_total_cases  MT_total_death  \n",
       "date                                        \n",
       "2021-04-09           224.0            27.0  \n",
       "2022-03-04          2080.0             1.0  "
      ]
     },
     "execution_count": 13,
     "metadata": {},
     "output_type": "execute_result"
    }
   ],
   "source": [
    "# Check if our total cases / death coulmn match with new cases / death colum\n",
    "print((covid_cases_for_MT['MT_total_cases'] == covid_cases_for_MT['new_case']).value_counts())\n",
    "covid_cases_for_MT.query('MT_total_cases != new_case')\n",
    "\n",
    "# covid_cases_for_MT.query('MT_total_death != new_death')\n",
    "# print((covid_cases_for_MT['MT_total_death'] == covid_cases_for_MT['new_death']).value_counts())"
   ]
  },
  {
   "cell_type": "markdown",
   "id": "75c8c211",
   "metadata": {},
   "source": [
    "##### Found out that there are two rows in which values do not match\n",
    "##### In that case, our total columns are right\n",
    "##### So dropping new case and new death columns"
   ]
  },
  {
   "cell_type": "code",
   "execution_count": 14,
   "id": "35c3149b",
   "metadata": {},
   "outputs": [],
   "source": [
    "covid_cases_for_MT.drop(['new_case', 'new_death'], axis=1, inplace=True)"
   ]
  },
  {
   "cell_type": "code",
   "execution_count": 15,
   "id": "617d6ace",
   "metadata": {
    "scrolled": false
   },
   "outputs": [
    {
     "name": "stdout",
     "output_type": "stream",
     "text": [
      "<class 'pandas.core.frame.DataFrame'>\n",
      "DatetimeIndex: 843 entries, 2020-01-22 to 2022-05-13\n",
      "Data columns (total 4 columns):\n",
      " #   Column              Non-Null Count  Dtype  \n",
      "---  ------              --------------  -----  \n",
      " 0   MT_total_cases_cum  843 non-null    int64  \n",
      " 1   MT_total_death_cum  843 non-null    int64  \n",
      " 2   MT_total_cases      843 non-null    float64\n",
      " 3   MT_total_death      843 non-null    float64\n",
      "dtypes: float64(2), int64(2)\n",
      "memory usage: 32.9 KB\n"
     ]
    }
   ],
   "source": [
    "covid_cases_for_MT.info()"
   ]
  },
  {
   "cell_type": "code",
   "execution_count": 16,
   "id": "f2fc1a8a",
   "metadata": {
    "scrolled": true
   },
   "outputs": [
    {
     "data": {
      "text/html": [
       "<div>\n",
       "<style scoped>\n",
       "    .dataframe tbody tr th:only-of-type {\n",
       "        vertical-align: middle;\n",
       "    }\n",
       "\n",
       "    .dataframe tbody tr th {\n",
       "        vertical-align: top;\n",
       "    }\n",
       "\n",
       "    .dataframe thead th {\n",
       "        text-align: right;\n",
       "    }\n",
       "</style>\n",
       "<table border=\"1\" class=\"dataframe\">\n",
       "  <thead>\n",
       "    <tr style=\"text-align: right;\">\n",
       "      <th></th>\n",
       "      <th>MN_total_cases_cum</th>\n",
       "      <th>MN_total_death_cum</th>\n",
       "      <th>MN_total_cases</th>\n",
       "      <th>MN_total_death</th>\n",
       "    </tr>\n",
       "    <tr>\n",
       "      <th>date</th>\n",
       "      <th></th>\n",
       "      <th></th>\n",
       "      <th></th>\n",
       "      <th></th>\n",
       "    </tr>\n",
       "  </thead>\n",
       "  <tbody>\n",
       "    <tr>\n",
       "      <th>2022-05-09</th>\n",
       "      <td>1466615</td>\n",
       "      <td>12809</td>\n",
       "      <td>2660.0</td>\n",
       "      <td>4.0</td>\n",
       "    </tr>\n",
       "    <tr>\n",
       "      <th>2022-05-10</th>\n",
       "      <td>1471731</td>\n",
       "      <td>12814</td>\n",
       "      <td>5116.0</td>\n",
       "      <td>5.0</td>\n",
       "    </tr>\n",
       "    <tr>\n",
       "      <th>2022-05-11</th>\n",
       "      <td>1473521</td>\n",
       "      <td>12826</td>\n",
       "      <td>1790.0</td>\n",
       "      <td>12.0</td>\n",
       "    </tr>\n",
       "    <tr>\n",
       "      <th>2022-05-12</th>\n",
       "      <td>1476133</td>\n",
       "      <td>12837</td>\n",
       "      <td>2612.0</td>\n",
       "      <td>11.0</td>\n",
       "    </tr>\n",
       "    <tr>\n",
       "      <th>2022-05-13</th>\n",
       "      <td>1479047</td>\n",
       "      <td>12849</td>\n",
       "      <td>2914.0</td>\n",
       "      <td>12.0</td>\n",
       "    </tr>\n",
       "  </tbody>\n",
       "</table>\n",
       "</div>"
      ],
      "text/plain": [
       "            MN_total_cases_cum  MN_total_death_cum  MN_total_cases  \\\n",
       "date                                                                 \n",
       "2022-05-09             1466615               12809          2660.0   \n",
       "2022-05-10             1471731               12814          5116.0   \n",
       "2022-05-11             1473521               12826          1790.0   \n",
       "2022-05-12             1476133               12837          2612.0   \n",
       "2022-05-13             1479047               12849          2914.0   \n",
       "\n",
       "            MN_total_death  \n",
       "date                        \n",
       "2022-05-09             4.0  \n",
       "2022-05-10             5.0  \n",
       "2022-05-11            12.0  \n",
       "2022-05-12            11.0  \n",
       "2022-05-13            12.0  "
      ]
     },
     "execution_count": 16,
     "metadata": {},
     "output_type": "execute_result"
    }
   ],
   "source": [
    "columns_list = ['state', 'total_cases_cum', 'total_death_cum'] #, 'conf_cases_cum', 'conf_death_cum']\n",
    "covid_cases_for_MN = covid_cases_df.loc[:, columns_list]\n",
    "covid_cases_for_MN = covid_cases_for_MN[covid_cases_df['state'].isin([stateMinnesota])]\n",
    "covid_cases_for_MN.rename(columns = {'total_cases_cum':'MN_total_cases_cum', \n",
    "#                                      'conf_cases_cum': 'MN_conf_cases_cum',\n",
    "                                     'total_death_cum':'MN_total_death_cum', \n",
    "#                                      'conf_death_cum': 'MN_conf_death_cum',\n",
    "                                    }, \n",
    "                          inplace = True)\n",
    "\n",
    "# sort the data by date \n",
    "covid_cases_for_MN = covid_cases_for_MN.sort_values(by=['date'])\n",
    "\n",
    "# covid_cases_for_MT.info()\n",
    "\n",
    "# propagates last valid observation forward \n",
    "# covid_cases_for_MN.fillna(method='ffill', inplace=True)\n",
    "covid_cases_for_MN.fillna(0, inplace=True)\n",
    "\n",
    "covid_cases_for_MN = covid_cases_for_MN.drop(['state'], axis=1)\n",
    "\n",
    "# subtract the consecutive rows to get the value for a particular day before you start analyzing the data.\n",
    "covid_cases_for_MN['MN_total_cases'] = covid_cases_for_MN['MN_total_cases_cum'] - covid_cases_for_MN['MN_total_cases_cum'].shift(1)\n",
    "# covid_cases_for_MN['MN_conf_cases'] = covid_cases_for_MN['MN_conf_cases_cum'] - covid_cases_for_MN['MN_conf_cases_cum'].shift(1)\n",
    "covid_cases_for_MN['MN_total_death'] = covid_cases_for_MN['MN_total_death_cum'] - covid_cases_for_MN['MN_total_death_cum'].shift(1)\n",
    "# covid_cases_for_MN['MN_conf_death'] = covid_cases_for_MN['MN_conf_death_cum'] - covid_cases_for_MN['MN_conf_death_cum'].shift(1)\n",
    "covid_cases_for_MN.iloc[0, 2] = covid_cases_for_MN.iloc[0, 0]\n",
    "covid_cases_for_MN.iloc[0, 3] = covid_cases_for_MN.iloc[0, 1]\n",
    "# covid_cases_for_MN.iloc[0, 6] = covid_cases_for_MN.iloc[0, 2]\n",
    "# covid_cases_for_MN.iloc[0, 7] = covid_cases_for_MN.iloc[0, 3]\n",
    "\n",
    "covid_cases_for_MN.tail()"
   ]
  },
  {
   "cell_type": "code",
   "execution_count": 17,
   "id": "634f1f05",
   "metadata": {},
   "outputs": [],
   "source": [
    "state_covid_cases_df = pd.concat([covid_cases_for_MT, covid_cases_for_MN], axis=1)"
   ]
  },
  {
   "cell_type": "markdown",
   "id": "e5093394",
   "metadata": {},
   "source": [
    "### Mandatory tasks to be performed on your assigned COVID19 dataset from column B:"
   ]
  },
  {
   "cell_type": "markdown",
   "id": "4b69eacb",
   "metadata": {},
   "source": [
    "#### 1. Clean your dataset (remove missing values, sanitize data, etc.). Remove any outliers (except 0s) using the Tukey’s rule from class using the default values as in class. Report what you found (number of outliers). Comment on your findings both for data cleaning (what issues you found, how you dealt with them) and outlier detection. This will be 10% of the project grade."
   ]
  },
  {
   "cell_type": "markdown",
   "id": "8e74eb0c",
   "metadata": {},
   "source": [
    "##### Remove missing values"
   ]
  },
  {
   "cell_type": "code",
   "execution_count": 18,
   "id": "ed11f1d9",
   "metadata": {},
   "outputs": [
    {
     "data": {
      "text/html": [
       "<div>\n",
       "<style scoped>\n",
       "    .dataframe tbody tr th:only-of-type {\n",
       "        vertical-align: middle;\n",
       "    }\n",
       "\n",
       "    .dataframe tbody tr th {\n",
       "        vertical-align: top;\n",
       "    }\n",
       "\n",
       "    .dataframe thead th {\n",
       "        text-align: right;\n",
       "    }\n",
       "</style>\n",
       "<table border=\"1\" class=\"dataframe\">\n",
       "  <thead>\n",
       "    <tr style=\"text-align: right;\">\n",
       "      <th></th>\n",
       "      <th>MT_total_cases_cum</th>\n",
       "      <th>MT_total_death_cum</th>\n",
       "      <th>MT_total_cases</th>\n",
       "      <th>MT_total_death</th>\n",
       "      <th>MN_total_cases_cum</th>\n",
       "      <th>MN_total_death_cum</th>\n",
       "      <th>MN_total_cases</th>\n",
       "      <th>MN_total_death</th>\n",
       "    </tr>\n",
       "    <tr>\n",
       "      <th>date</th>\n",
       "      <th></th>\n",
       "      <th></th>\n",
       "      <th></th>\n",
       "      <th></th>\n",
       "      <th></th>\n",
       "      <th></th>\n",
       "      <th></th>\n",
       "      <th></th>\n",
       "    </tr>\n",
       "  </thead>\n",
       "  <tbody>\n",
       "    <tr>\n",
       "      <th>2022-05-09</th>\n",
       "      <td>274598</td>\n",
       "      <td>3378</td>\n",
       "      <td>0.0</td>\n",
       "      <td>0.0</td>\n",
       "      <td>1466615</td>\n",
       "      <td>12809</td>\n",
       "      <td>2660.0</td>\n",
       "      <td>4.0</td>\n",
       "    </tr>\n",
       "    <tr>\n",
       "      <th>2022-05-10</th>\n",
       "      <td>274598</td>\n",
       "      <td>3378</td>\n",
       "      <td>0.0</td>\n",
       "      <td>0.0</td>\n",
       "      <td>1471731</td>\n",
       "      <td>12814</td>\n",
       "      <td>5116.0</td>\n",
       "      <td>5.0</td>\n",
       "    </tr>\n",
       "    <tr>\n",
       "      <th>2022-05-11</th>\n",
       "      <td>274598</td>\n",
       "      <td>3378</td>\n",
       "      <td>0.0</td>\n",
       "      <td>0.0</td>\n",
       "      <td>1473521</td>\n",
       "      <td>12826</td>\n",
       "      <td>1790.0</td>\n",
       "      <td>12.0</td>\n",
       "    </tr>\n",
       "    <tr>\n",
       "      <th>2022-05-12</th>\n",
       "      <td>274598</td>\n",
       "      <td>3378</td>\n",
       "      <td>0.0</td>\n",
       "      <td>0.0</td>\n",
       "      <td>1476133</td>\n",
       "      <td>12837</td>\n",
       "      <td>2612.0</td>\n",
       "      <td>11.0</td>\n",
       "    </tr>\n",
       "    <tr>\n",
       "      <th>2022-05-13</th>\n",
       "      <td>275113</td>\n",
       "      <td>3381</td>\n",
       "      <td>515.0</td>\n",
       "      <td>3.0</td>\n",
       "      <td>1479047</td>\n",
       "      <td>12849</td>\n",
       "      <td>2914.0</td>\n",
       "      <td>12.0</td>\n",
       "    </tr>\n",
       "  </tbody>\n",
       "</table>\n",
       "</div>"
      ],
      "text/plain": [
       "            MT_total_cases_cum  MT_total_death_cum  MT_total_cases  \\\n",
       "date                                                                 \n",
       "2022-05-09              274598                3378             0.0   \n",
       "2022-05-10              274598                3378             0.0   \n",
       "2022-05-11              274598                3378             0.0   \n",
       "2022-05-12              274598                3378             0.0   \n",
       "2022-05-13              275113                3381           515.0   \n",
       "\n",
       "            MT_total_death  MN_total_cases_cum  MN_total_death_cum  \\\n",
       "date                                                                 \n",
       "2022-05-09             0.0             1466615               12809   \n",
       "2022-05-10             0.0             1471731               12814   \n",
       "2022-05-11             0.0             1473521               12826   \n",
       "2022-05-12             0.0             1476133               12837   \n",
       "2022-05-13             3.0             1479047               12849   \n",
       "\n",
       "            MN_total_cases  MN_total_death  \n",
       "date                                        \n",
       "2022-05-09          2660.0             4.0  \n",
       "2022-05-10          5116.0             5.0  \n",
       "2022-05-11          1790.0            12.0  \n",
       "2022-05-12          2612.0            11.0  \n",
       "2022-05-13          2914.0            12.0  "
      ]
     },
     "execution_count": 18,
     "metadata": {},
     "output_type": "execute_result"
    }
   ],
   "source": [
    "state_covid_cases_df = state_covid_cases_df.dropna(how='any')\n",
    "state_covid_cases_df.tail()"
   ]
  },
  {
   "cell_type": "markdown",
   "id": "d9d61cf1",
   "metadata": {},
   "source": [
    "##### Remove outliers using Tukey's rule "
   ]
  },
  {
   "cell_type": "code",
   "execution_count": 19,
   "id": "575296bc",
   "metadata": {},
   "outputs": [],
   "source": [
    "def remove_outliers(data, column):\n",
    "    \n",
    "    column_data = data[column]\n",
    "    \n",
    "    n = len(column_data)\n",
    "    # First quartile\n",
    "    q1 = np.percentile(column_data, 25)\n",
    "    print(\"Q1:\", q1)\n",
    "    # Third quartile\n",
    "    q3 = np.percentile(column_data, 75)\n",
    "\n",
    "    print(\"Q3:\", q3)\n",
    "    # Inter-Quartile Range\n",
    "    iqr = q3 - q1\n",
    "    \n",
    "    width = 1.5 * iqr\n",
    "    \n",
    "    min_value = q1 - width\n",
    "    max_value = q3 + width      \n",
    "    \n",
    "    print(\"Q1 − 1.5*IQR :\", min_value)\n",
    "    print(\"Q3 + 1.5*IQR :\", max_value)\n",
    "    \n",
    "    # filter to find the outliers using Tukey's rule\n",
    "    filter_ = (column_data < min_value) | (column_data > max_value)\n",
    "    cleaned_data = data.loc[~filter_]    \n",
    "    \n",
    "    outliers = data.loc[filter_]\n",
    "    plt.figure(figsize=(15, 8))\n",
    "    plt.scatter(data.index, data[column], c='b')\n",
    "    plt.scatter(outliers.index, outliers[column], label='outliers', c='r')\n",
    "    plt.legend(loc='upper right')\n",
    "    plt.xlabel('Date', fontsize=14)\n",
    "    plt.ylabel('Number of Outliers', fontsize=14)\n",
    "    plt.title('Distribution of outliers in data', fontsize=14)\n",
    "    plt.show()\n",
    "    \n",
    "    return cleaned_data"
   ]
  },
  {
   "cell_type": "code",
   "execution_count": 20,
   "id": "39648028",
   "metadata": {},
   "outputs": [
    {
     "data": {
      "image/png": "[encoded data removed]",
      "text/plain": [
       "<Figure size 1080x576 with 1 Axes>"
      ]
     },
     "metadata": {},
     "output_type": "display_data"
    }
   ],
   "source": [
    "df_plot1 = pd.DataFrame(data = state_covid_cases_df, columns = ['MT_total_death','MN_total_death'])\n",
    "\n",
    "sns.set(rc = {'figure.figsize':(15, 8)})\n",
    "boxplot = sns.boxplot(x=\"variable\", y=\"value\", data=pd.melt(df_plot1), palette=\"Blues\")\n",
    "# boxplot = sns.stripplot(x=\"variable\", y=\"value\", data=pd.melt(df_plot1), marker=\"o\", alpha=0.3, color=\"black\", order=['MT_total_death','MN_total_death'])\n",
    "boxplot.axes.set_title(\"Distribution of total covid death in Montana and Minnesota\", fontsize=16)\n",
    "boxplot.set_xlabel(\"States\", fontsize=14)\n",
    "boxplot.set_ylabel(\"Total number of covid death\", fontsize=14)\n",
    "plt.show()"
   ]
  },
  {
   "cell_type": "markdown",
   "id": "415ddf1b",
   "metadata": {},
   "source": [
    "As we can see our data for MT and MN has some outliers. We will remove it using Tukey's rule"
   ]
  },
  {
   "cell_type": "code",
   "execution_count": 21,
   "id": "e2409b95",
   "metadata": {},
   "outputs": [
    {
     "data": {
      "image/png": "[encoded data removed]",
      "text/plain": [
       "<Figure size 1080x576 with 1 Axes>"
      ]
     },
     "metadata": {},
     "output_type": "display_data"
    }
   ],
   "source": [
    "# figure1 = sns.boxplot(y=state_covid_cases_df['MT_total_death'], linewidth=1.5)\n",
    "\n",
    "df_plot1 = pd.DataFrame(data = state_covid_cases_df, columns = ['MT_total_cases','MN_total_cases'])\n",
    "sns.set(rc = {'figure.figsize':(15, 8)})\n",
    "boxplot = sns.boxplot(x=\"variable\", y=\"value\", data=pd.melt(df_plot1), palette=\"Blues\")\n",
    "boxplot.axes.set_title(\"Distribution of total covid cases in Montana and Minnesota\", fontsize=16)\n",
    "boxplot.set_xlabel(\"States\", fontsize=14)\n",
    "boxplot.set_ylabel(\"Total number of covid cases\", fontsize=14)\n",
    "plt.show()"
   ]
  },
  {
   "cell_type": "markdown",
   "id": "7fb825e7",
   "metadata": {},
   "source": [
    "As we can see our data for MT and MN has some outliers. We will remove it using Tukey's rule"
   ]
  },
  {
   "cell_type": "code",
   "execution_count": 22,
   "id": "43bc4298",
   "metadata": {
    "scrolled": false
   },
   "outputs": [
    {
     "name": "stdout",
     "output_type": "stream",
     "text": [
      "Q1: 0.0\n",
      "Q3: 5.0\n",
      "Q1 − 1.5*IQR : -7.5\n",
      "Q3 + 1.5*IQR : 12.5\n"
     ]
    },
    {
     "data": {
      "image/png": "[encoded data removed]",
      "text/plain": [
       "<Figure size 1080x576 with 1 Axes>"
      ]
     },
     "metadata": {},
     "output_type": "display_data"
    },
    {
     "name": "stdout",
     "output_type": "stream",
     "text": [
      "Number of outliers: 76\n"
     ]
    }
   ],
   "source": [
    "column = 'MT_total_death'\n",
    "cleaned_data = remove_outliers(state_covid_cases_df, column)\n",
    "print(\"Number of outliers:\", len(state_covid_cases_df) - len(cleaned_data))\n",
    "state_covid_cases_df = cleaned_data"
   ]
  },
  {
   "cell_type": "code",
   "execution_count": 23,
   "id": "df58ee9c",
   "metadata": {},
   "outputs": [
    {
     "name": "stdout",
     "output_type": "stream",
     "text": [
      "Q1: 1.0\n",
      "Q3: 17.0\n",
      "Q1 − 1.5*IQR : -23.0\n",
      "Q3 + 1.5*IQR : 41.0\n"
     ]
    },
    {
     "data": {
      "image/png": "[encoded data removed]",
      "text/plain": [
       "<Figure size 1080x576 with 1 Axes>"
      ]
     },
     "metadata": {},
     "output_type": "display_data"
    },
    {
     "name": "stdout",
     "output_type": "stream",
     "text": [
      "Number of outliers: 75\n"
     ]
    }
   ],
   "source": [
    "column = 'MN_total_death'\n",
    "cleaned_data = remove_outliers(state_covid_cases_df, column)\n",
    "print(\"Number of outliers:\", len(state_covid_cases_df) - len(cleaned_data))\n",
    "state_covid_cases_df = cleaned_data"
   ]
  },
  {
   "cell_type": "code",
   "execution_count": 24,
   "id": "7e1b9b94",
   "metadata": {},
   "outputs": [
    {
     "name": "stdout",
     "output_type": "stream",
     "text": [
      "Q1: 2.0\n",
      "Q3: 230.25\n",
      "Q1 − 1.5*IQR : -340.375\n",
      "Q3 + 1.5*IQR : 572.625\n"
     ]
    },
    {
     "data": {
      "image/png": "[encoded data removed]",
      "text/plain": [
       "<Figure size 1080x576 with 1 Axes>"
      ]
     },
     "metadata": {},
     "output_type": "display_data"
    },
    {
     "name": "stdout",
     "output_type": "stream",
     "text": [
      "Number of outliers: 79\n"
     ]
    }
   ],
   "source": [
    "column = 'MT_total_cases'\n",
    "cleaned_data = remove_outliers(state_covid_cases_df, column)\n",
    "print(\"Number of outliers:\", len(state_covid_cases_df) - len(cleaned_data))\n",
    "state_covid_cases_df = cleaned_data"
   ]
  },
  {
   "cell_type": "code",
   "execution_count": 25,
   "id": "da8e2b3f",
   "metadata": {},
   "outputs": [
    {
     "name": "stdout",
     "output_type": "stream",
     "text": [
      "Q1: 0.0\n",
      "Q3: 970.0\n",
      "Q1 − 1.5*IQR : -1455.0\n",
      "Q3 + 1.5*IQR : 2425.0\n"
     ]
    },
    {
     "data": {
      "image/png": "[encoded data removed]",
      "text/plain": [
       "<Figure size 1080x576 with 1 Axes>"
      ]
     },
     "metadata": {},
     "output_type": "display_data"
    },
    {
     "name": "stdout",
     "output_type": "stream",
     "text": [
      "Number of outliers: 23\n"
     ]
    }
   ],
   "source": [
    "column = 'MN_total_cases'\n",
    "cleaned_data = remove_outliers(state_covid_cases_df, column)\n",
    "print(\"Number of outliers:\", len(state_covid_cases_df) - len(cleaned_data))\n",
    "state_covid_cases_df = cleaned_data"
   ]
  },
  {
   "cell_type": "code",
   "execution_count": 26,
   "id": "71436137",
   "metadata": {},
   "outputs": [
    {
     "data": {
      "text/plain": [
       "(590, 8)"
      ]
     },
     "execution_count": 26,
     "metadata": {},
     "output_type": "execute_result"
    }
   ],
   "source": [
    "state_covid_cases_df.shape"
   ]
  },
  {
   "cell_type": "code",
   "execution_count": 27,
   "id": "071bd43e",
   "metadata": {
    "scrolled": true
   },
   "outputs": [
    {
     "data": {
      "text/html": [
       "<div>\n",
       "<style scoped>\n",
       "    .dataframe tbody tr th:only-of-type {\n",
       "        vertical-align: middle;\n",
       "    }\n",
       "\n",
       "    .dataframe tbody tr th {\n",
       "        vertical-align: top;\n",
       "    }\n",
       "\n",
       "    .dataframe thead th {\n",
       "        text-align: right;\n",
       "    }\n",
       "</style>\n",
       "<table border=\"1\" class=\"dataframe\">\n",
       "  <thead>\n",
       "    <tr style=\"text-align: right;\">\n",
       "      <th></th>\n",
       "      <th>MT_total_cases_cum</th>\n",
       "      <th>MT_total_death_cum</th>\n",
       "      <th>MT_total_cases</th>\n",
       "      <th>MT_total_death</th>\n",
       "      <th>MN_total_cases_cum</th>\n",
       "      <th>MN_total_death_cum</th>\n",
       "      <th>MN_total_cases</th>\n",
       "      <th>MN_total_death</th>\n",
       "    </tr>\n",
       "    <tr>\n",
       "      <th>date</th>\n",
       "      <th></th>\n",
       "      <th></th>\n",
       "      <th></th>\n",
       "      <th></th>\n",
       "      <th></th>\n",
       "      <th></th>\n",
       "      <th></th>\n",
       "      <th></th>\n",
       "    </tr>\n",
       "  </thead>\n",
       "  <tbody>\n",
       "    <tr>\n",
       "      <th>2022-03-25</th>\n",
       "      <td>272397</td>\n",
       "      <td>3242</td>\n",
       "      <td>41.0</td>\n",
       "      <td>2.0</td>\n",
       "      <td>1427270</td>\n",
       "      <td>12589</td>\n",
       "      <td>483.0</td>\n",
       "      <td>7.0</td>\n",
       "    </tr>\n",
       "    <tr>\n",
       "      <th>2022-03-26</th>\n",
       "      <td>272397</td>\n",
       "      <td>3242</td>\n",
       "      <td>0.0</td>\n",
       "      <td>0.0</td>\n",
       "      <td>1427270</td>\n",
       "      <td>12589</td>\n",
       "      <td>0.0</td>\n",
       "      <td>0.0</td>\n",
       "    </tr>\n",
       "    <tr>\n",
       "      <th>2022-03-27</th>\n",
       "      <td>272397</td>\n",
       "      <td>3242</td>\n",
       "      <td>0.0</td>\n",
       "      <td>0.0</td>\n",
       "      <td>1427270</td>\n",
       "      <td>12589</td>\n",
       "      <td>0.0</td>\n",
       "      <td>0.0</td>\n",
       "    </tr>\n",
       "    <tr>\n",
       "      <th>2022-03-28</th>\n",
       "      <td>272454</td>\n",
       "      <td>3245</td>\n",
       "      <td>57.0</td>\n",
       "      <td>3.0</td>\n",
       "      <td>1427734</td>\n",
       "      <td>12602</td>\n",
       "      <td>464.0</td>\n",
       "      <td>13.0</td>\n",
       "    </tr>\n",
       "    <tr>\n",
       "      <th>2022-03-29</th>\n",
       "      <td>272509</td>\n",
       "      <td>3246</td>\n",
       "      <td>55.0</td>\n",
       "      <td>1.0</td>\n",
       "      <td>1428704</td>\n",
       "      <td>12610</td>\n",
       "      <td>970.0</td>\n",
       "      <td>8.0</td>\n",
       "    </tr>\n",
       "    <tr>\n",
       "      <th>2022-03-30</th>\n",
       "      <td>272543</td>\n",
       "      <td>3246</td>\n",
       "      <td>34.0</td>\n",
       "      <td>0.0</td>\n",
       "      <td>1429051</td>\n",
       "      <td>12621</td>\n",
       "      <td>347.0</td>\n",
       "      <td>11.0</td>\n",
       "    </tr>\n",
       "    <tr>\n",
       "      <th>2022-03-31</th>\n",
       "      <td>272555</td>\n",
       "      <td>3247</td>\n",
       "      <td>12.0</td>\n",
       "      <td>1.0</td>\n",
       "      <td>1429550</td>\n",
       "      <td>12638</td>\n",
       "      <td>499.0</td>\n",
       "      <td>17.0</td>\n",
       "    </tr>\n",
       "    <tr>\n",
       "      <th>2022-04-01</th>\n",
       "      <td>272621</td>\n",
       "      <td>3249</td>\n",
       "      <td>66.0</td>\n",
       "      <td>2.0</td>\n",
       "      <td>1430089</td>\n",
       "      <td>12640</td>\n",
       "      <td>539.0</td>\n",
       "      <td>2.0</td>\n",
       "    </tr>\n",
       "    <tr>\n",
       "      <th>2022-04-02</th>\n",
       "      <td>272621</td>\n",
       "      <td>3249</td>\n",
       "      <td>0.0</td>\n",
       "      <td>0.0</td>\n",
       "      <td>1430089</td>\n",
       "      <td>12640</td>\n",
       "      <td>0.0</td>\n",
       "      <td>0.0</td>\n",
       "    </tr>\n",
       "    <tr>\n",
       "      <th>2022-04-03</th>\n",
       "      <td>272621</td>\n",
       "      <td>3249</td>\n",
       "      <td>0.0</td>\n",
       "      <td>0.0</td>\n",
       "      <td>1430089</td>\n",
       "      <td>12640</td>\n",
       "      <td>0.0</td>\n",
       "      <td>0.0</td>\n",
       "    </tr>\n",
       "    <tr>\n",
       "      <th>2022-04-04</th>\n",
       "      <td>272679</td>\n",
       "      <td>3251</td>\n",
       "      <td>58.0</td>\n",
       "      <td>2.0</td>\n",
       "      <td>1430556</td>\n",
       "      <td>12645</td>\n",
       "      <td>467.0</td>\n",
       "      <td>5.0</td>\n",
       "    </tr>\n",
       "    <tr>\n",
       "      <th>2022-04-05</th>\n",
       "      <td>272727</td>\n",
       "      <td>3252</td>\n",
       "      <td>48.0</td>\n",
       "      <td>1.0</td>\n",
       "      <td>1431643</td>\n",
       "      <td>12649</td>\n",
       "      <td>1087.0</td>\n",
       "      <td>4.0</td>\n",
       "    </tr>\n",
       "    <tr>\n",
       "      <th>2022-04-06</th>\n",
       "      <td>272796</td>\n",
       "      <td>3249</td>\n",
       "      <td>69.0</td>\n",
       "      <td>-3.0</td>\n",
       "      <td>1432002</td>\n",
       "      <td>12669</td>\n",
       "      <td>359.0</td>\n",
       "      <td>20.0</td>\n",
       "    </tr>\n",
       "    <tr>\n",
       "      <th>2022-04-07</th>\n",
       "      <td>272826</td>\n",
       "      <td>3255</td>\n",
       "      <td>30.0</td>\n",
       "      <td>6.0</td>\n",
       "      <td>1432617</td>\n",
       "      <td>12674</td>\n",
       "      <td>615.0</td>\n",
       "      <td>5.0</td>\n",
       "    </tr>\n",
       "    <tr>\n",
       "      <th>2022-04-08</th>\n",
       "      <td>272849</td>\n",
       "      <td>3255</td>\n",
       "      <td>23.0</td>\n",
       "      <td>0.0</td>\n",
       "      <td>1433225</td>\n",
       "      <td>12680</td>\n",
       "      <td>608.0</td>\n",
       "      <td>6.0</td>\n",
       "    </tr>\n",
       "    <tr>\n",
       "      <th>2022-04-09</th>\n",
       "      <td>272849</td>\n",
       "      <td>3255</td>\n",
       "      <td>0.0</td>\n",
       "      <td>0.0</td>\n",
       "      <td>1433225</td>\n",
       "      <td>12680</td>\n",
       "      <td>0.0</td>\n",
       "      <td>0.0</td>\n",
       "    </tr>\n",
       "    <tr>\n",
       "      <th>2022-04-10</th>\n",
       "      <td>272849</td>\n",
       "      <td>3255</td>\n",
       "      <td>0.0</td>\n",
       "      <td>0.0</td>\n",
       "      <td>1433225</td>\n",
       "      <td>12680</td>\n",
       "      <td>0.0</td>\n",
       "      <td>0.0</td>\n",
       "    </tr>\n",
       "    <tr>\n",
       "      <th>2022-04-11</th>\n",
       "      <td>272919</td>\n",
       "      <td>3255</td>\n",
       "      <td>70.0</td>\n",
       "      <td>0.0</td>\n",
       "      <td>1433898</td>\n",
       "      <td>12687</td>\n",
       "      <td>673.0</td>\n",
       "      <td>7.0</td>\n",
       "    </tr>\n",
       "    <tr>\n",
       "      <th>2022-04-12</th>\n",
       "      <td>272979</td>\n",
       "      <td>3259</td>\n",
       "      <td>60.0</td>\n",
       "      <td>4.0</td>\n",
       "      <td>1435232</td>\n",
       "      <td>12689</td>\n",
       "      <td>1334.0</td>\n",
       "      <td>2.0</td>\n",
       "    </tr>\n",
       "    <tr>\n",
       "      <th>2022-04-13</th>\n",
       "      <td>273022</td>\n",
       "      <td>3259</td>\n",
       "      <td>43.0</td>\n",
       "      <td>0.0</td>\n",
       "      <td>1435914</td>\n",
       "      <td>12694</td>\n",
       "      <td>682.0</td>\n",
       "      <td>5.0</td>\n",
       "    </tr>\n",
       "    <tr>\n",
       "      <th>2022-04-14</th>\n",
       "      <td>273057</td>\n",
       "      <td>3260</td>\n",
       "      <td>35.0</td>\n",
       "      <td>1.0</td>\n",
       "      <td>1436766</td>\n",
       "      <td>12708</td>\n",
       "      <td>852.0</td>\n",
       "      <td>14.0</td>\n",
       "    </tr>\n",
       "    <tr>\n",
       "      <th>2022-04-15</th>\n",
       "      <td>273114</td>\n",
       "      <td>3260</td>\n",
       "      <td>57.0</td>\n",
       "      <td>0.0</td>\n",
       "      <td>1437638</td>\n",
       "      <td>12714</td>\n",
       "      <td>872.0</td>\n",
       "      <td>6.0</td>\n",
       "    </tr>\n",
       "    <tr>\n",
       "      <th>2022-04-16</th>\n",
       "      <td>273114</td>\n",
       "      <td>3260</td>\n",
       "      <td>0.0</td>\n",
       "      <td>0.0</td>\n",
       "      <td>1437638</td>\n",
       "      <td>12714</td>\n",
       "      <td>0.0</td>\n",
       "      <td>0.0</td>\n",
       "    </tr>\n",
       "    <tr>\n",
       "      <th>2022-04-17</th>\n",
       "      <td>273114</td>\n",
       "      <td>3260</td>\n",
       "      <td>0.0</td>\n",
       "      <td>0.0</td>\n",
       "      <td>1437638</td>\n",
       "      <td>12714</td>\n",
       "      <td>0.0</td>\n",
       "      <td>0.0</td>\n",
       "    </tr>\n",
       "    <tr>\n",
       "      <th>2022-04-18</th>\n",
       "      <td>273204</td>\n",
       "      <td>3260</td>\n",
       "      <td>90.0</td>\n",
       "      <td>0.0</td>\n",
       "      <td>1438566</td>\n",
       "      <td>12718</td>\n",
       "      <td>928.0</td>\n",
       "      <td>4.0</td>\n",
       "    </tr>\n",
       "    <tr>\n",
       "      <th>2022-04-19</th>\n",
       "      <td>273287</td>\n",
       "      <td>3261</td>\n",
       "      <td>83.0</td>\n",
       "      <td>1.0</td>\n",
       "      <td>1440303</td>\n",
       "      <td>12722</td>\n",
       "      <td>1737.0</td>\n",
       "      <td>4.0</td>\n",
       "    </tr>\n",
       "    <tr>\n",
       "      <th>2022-04-20</th>\n",
       "      <td>273371</td>\n",
       "      <td>3262</td>\n",
       "      <td>84.0</td>\n",
       "      <td>1.0</td>\n",
       "      <td>1441279</td>\n",
       "      <td>12739</td>\n",
       "      <td>976.0</td>\n",
       "      <td>17.0</td>\n",
       "    </tr>\n",
       "    <tr>\n",
       "      <th>2022-04-21</th>\n",
       "      <td>273413</td>\n",
       "      <td>3262</td>\n",
       "      <td>42.0</td>\n",
       "      <td>0.0</td>\n",
       "      <td>1442396</td>\n",
       "      <td>12742</td>\n",
       "      <td>1117.0</td>\n",
       "      <td>3.0</td>\n",
       "    </tr>\n",
       "    <tr>\n",
       "      <th>2022-04-22</th>\n",
       "      <td>273489</td>\n",
       "      <td>3262</td>\n",
       "      <td>76.0</td>\n",
       "      <td>0.0</td>\n",
       "      <td>1443859</td>\n",
       "      <td>12752</td>\n",
       "      <td>1463.0</td>\n",
       "      <td>10.0</td>\n",
       "    </tr>\n",
       "    <tr>\n",
       "      <th>2022-04-23</th>\n",
       "      <td>273489</td>\n",
       "      <td>3262</td>\n",
       "      <td>0.0</td>\n",
       "      <td>0.0</td>\n",
       "      <td>1443859</td>\n",
       "      <td>12752</td>\n",
       "      <td>0.0</td>\n",
       "      <td>0.0</td>\n",
       "    </tr>\n",
       "    <tr>\n",
       "      <th>2022-04-24</th>\n",
       "      <td>273489</td>\n",
       "      <td>3262</td>\n",
       "      <td>0.0</td>\n",
       "      <td>0.0</td>\n",
       "      <td>1443859</td>\n",
       "      <td>12752</td>\n",
       "      <td>0.0</td>\n",
       "      <td>0.0</td>\n",
       "    </tr>\n",
       "    <tr>\n",
       "      <th>2022-04-28</th>\n",
       "      <td>273904</td>\n",
       "      <td>3356</td>\n",
       "      <td>116.0</td>\n",
       "      <td>2.0</td>\n",
       "      <td>1450575</td>\n",
       "      <td>12773</td>\n",
       "      <td>1636.0</td>\n",
       "      <td>4.0</td>\n",
       "    </tr>\n",
       "    <tr>\n",
       "      <th>2022-04-29</th>\n",
       "      <td>273982</td>\n",
       "      <td>3360</td>\n",
       "      <td>78.0</td>\n",
       "      <td>4.0</td>\n",
       "      <td>1452547</td>\n",
       "      <td>12778</td>\n",
       "      <td>1972.0</td>\n",
       "      <td>5.0</td>\n",
       "    </tr>\n",
       "    <tr>\n",
       "      <th>2022-04-30</th>\n",
       "      <td>273982</td>\n",
       "      <td>3360</td>\n",
       "      <td>0.0</td>\n",
       "      <td>0.0</td>\n",
       "      <td>1452547</td>\n",
       "      <td>12778</td>\n",
       "      <td>0.0</td>\n",
       "      <td>0.0</td>\n",
       "    </tr>\n",
       "    <tr>\n",
       "      <th>2022-05-01</th>\n",
       "      <td>273982</td>\n",
       "      <td>3360</td>\n",
       "      <td>0.0</td>\n",
       "      <td>0.0</td>\n",
       "      <td>1452547</td>\n",
       "      <td>12778</td>\n",
       "      <td>0.0</td>\n",
       "      <td>0.0</td>\n",
       "    </tr>\n",
       "    <tr>\n",
       "      <th>2022-05-05</th>\n",
       "      <td>274481</td>\n",
       "      <td>3374</td>\n",
       "      <td>93.0</td>\n",
       "      <td>-1.0</td>\n",
       "      <td>1461622</td>\n",
       "      <td>12801</td>\n",
       "      <td>2277.0</td>\n",
       "      <td>6.0</td>\n",
       "    </tr>\n",
       "    <tr>\n",
       "      <th>2022-05-06</th>\n",
       "      <td>274598</td>\n",
       "      <td>3378</td>\n",
       "      <td>117.0</td>\n",
       "      <td>4.0</td>\n",
       "      <td>1463955</td>\n",
       "      <td>12805</td>\n",
       "      <td>2333.0</td>\n",
       "      <td>4.0</td>\n",
       "    </tr>\n",
       "    <tr>\n",
       "      <th>2022-05-07</th>\n",
       "      <td>274598</td>\n",
       "      <td>3378</td>\n",
       "      <td>0.0</td>\n",
       "      <td>0.0</td>\n",
       "      <td>1463955</td>\n",
       "      <td>12805</td>\n",
       "      <td>0.0</td>\n",
       "      <td>0.0</td>\n",
       "    </tr>\n",
       "    <tr>\n",
       "      <th>2022-05-08</th>\n",
       "      <td>274598</td>\n",
       "      <td>3378</td>\n",
       "      <td>0.0</td>\n",
       "      <td>0.0</td>\n",
       "      <td>1463955</td>\n",
       "      <td>12805</td>\n",
       "      <td>0.0</td>\n",
       "      <td>0.0</td>\n",
       "    </tr>\n",
       "    <tr>\n",
       "      <th>2022-05-11</th>\n",
       "      <td>274598</td>\n",
       "      <td>3378</td>\n",
       "      <td>0.0</td>\n",
       "      <td>0.0</td>\n",
       "      <td>1473521</td>\n",
       "      <td>12826</td>\n",
       "      <td>1790.0</td>\n",
       "      <td>12.0</td>\n",
       "    </tr>\n",
       "  </tbody>\n",
       "</table>\n",
       "</div>"
      ],
      "text/plain": [
       "            MT_total_cases_cum  MT_total_death_cum  MT_total_cases  \\\n",
       "date                                                                 \n",
       "2022-03-25              272397                3242            41.0   \n",
       "2022-03-26              272397                3242             0.0   \n",
       "2022-03-27              272397                3242             0.0   \n",
       "2022-03-28              272454                3245            57.0   \n",
       "2022-03-29              272509                3246            55.0   \n",
       "2022-03-30              272543                3246            34.0   \n",
       "2022-03-31              272555                3247            12.0   \n",
       "2022-04-01              272621                3249            66.0   \n",
       "2022-04-02              272621                3249             0.0   \n",
       "2022-04-03              272621                3249             0.0   \n",
       "2022-04-04              272679                3251            58.0   \n",
       "2022-04-05              272727                3252            48.0   \n",
       "2022-04-06              272796                3249            69.0   \n",
       "2022-04-07              272826                3255            30.0   \n",
       "2022-04-08              272849                3255            23.0   \n",
       "2022-04-09              272849                3255             0.0   \n",
       "2022-04-10              272849                3255             0.0   \n",
       "2022-04-11              272919                3255            70.0   \n",
       "2022-04-12              272979                3259            60.0   \n",
       "2022-04-13              273022                3259            43.0   \n",
       "2022-04-14              273057                3260            35.0   \n",
       "2022-04-15              273114                3260            57.0   \n",
       "2022-04-16              273114                3260             0.0   \n",
       "2022-04-17              273114                3260             0.0   \n",
       "2022-04-18              273204                3260            90.0   \n",
       "2022-04-19              273287                3261            83.0   \n",
       "2022-04-20              273371                3262            84.0   \n",
       "2022-04-21              273413                3262            42.0   \n",
       "2022-04-22              273489                3262            76.0   \n",
       "2022-04-23              273489                3262             0.0   \n",
       "2022-04-24              273489                3262             0.0   \n",
       "2022-04-28              273904                3356           116.0   \n",
       "2022-04-29              273982                3360            78.0   \n",
       "2022-04-30              273982                3360             0.0   \n",
       "2022-05-01              273982                3360             0.0   \n",
       "2022-05-05              274481                3374            93.0   \n",
       "2022-05-06              274598                3378           117.0   \n",
       "2022-05-07              274598                3378             0.0   \n",
       "2022-05-08              274598                3378             0.0   \n",
       "2022-05-11              274598                3378             0.0   \n",
       "\n",
       "            MT_total_death  MN_total_cases_cum  MN_total_death_cum  \\\n",
       "date                                                                 \n",
       "2022-03-25             2.0             1427270               12589   \n",
       "2022-03-26             0.0             1427270               12589   \n",
       "2022-03-27             0.0             1427270               12589   \n",
       "2022-03-28             3.0             1427734               12602   \n",
       "2022-03-29             1.0             1428704               12610   \n",
       "2022-03-30             0.0             1429051               12621   \n",
       "2022-03-31             1.0             1429550               12638   \n",
       "2022-04-01             2.0             1430089               12640   \n",
       "2022-04-02             0.0             1430089               12640   \n",
       "2022-04-03             0.0             1430089               12640   \n",
       "2022-04-04             2.0             1430556               12645   \n",
       "2022-04-05             1.0             1431643               12649   \n",
       "2022-04-06            -3.0             1432002               12669   \n",
       "2022-04-07             6.0             1432617               12674   \n",
       "2022-04-08             0.0             1433225               12680   \n",
       "2022-04-09             0.0             1433225               12680   \n",
       "2022-04-10             0.0             1433225               12680   \n",
       "2022-04-11             0.0             1433898               12687   \n",
       "2022-04-12             4.0             1435232               12689   \n",
       "2022-04-13             0.0             1435914               12694   \n",
       "2022-04-14             1.0             1436766               12708   \n",
       "2022-04-15             0.0             1437638               12714   \n",
       "2022-04-16             0.0             1437638               12714   \n",
       "2022-04-17             0.0             1437638               12714   \n",
       "2022-04-18             0.0             1438566               12718   \n",
       "2022-04-19             1.0             1440303               12722   \n",
       "2022-04-20             1.0             1441279               12739   \n",
       "2022-04-21             0.0             1442396               12742   \n",
       "2022-04-22             0.0             1443859               12752   \n",
       "2022-04-23             0.0             1443859               12752   \n",
       "2022-04-24             0.0             1443859               12752   \n",
       "2022-04-28             2.0             1450575               12773   \n",
       "2022-04-29             4.0             1452547               12778   \n",
       "2022-04-30             0.0             1452547               12778   \n",
       "2022-05-01             0.0             1452547               12778   \n",
       "2022-05-05            -1.0             1461622               12801   \n",
       "2022-05-06             4.0             1463955               12805   \n",
       "2022-05-07             0.0             1463955               12805   \n",
       "2022-05-08             0.0             1463955               12805   \n",
       "2022-05-11             0.0             1473521               12826   \n",
       "\n",
       "            MN_total_cases  MN_total_death  \n",
       "date                                        \n",
       "2022-03-25           483.0             7.0  \n",
       "2022-03-26             0.0             0.0  \n",
       "2022-03-27             0.0             0.0  \n",
       "2022-03-28           464.0            13.0  \n",
       "2022-03-29           970.0             8.0  \n",
       "2022-03-30           347.0            11.0  \n",
       "2022-03-31           499.0            17.0  \n",
       "2022-04-01           539.0             2.0  \n",
       "2022-04-02             0.0             0.0  \n",
       "2022-04-03             0.0             0.0  \n",
       "2022-04-04           467.0             5.0  \n",
       "2022-04-05          1087.0             4.0  \n",
       "2022-04-06           359.0            20.0  \n",
       "2022-04-07           615.0             5.0  \n",
       "2022-04-08           608.0             6.0  \n",
       "2022-04-09             0.0             0.0  \n",
       "2022-04-10             0.0             0.0  \n",
       "2022-04-11           673.0             7.0  \n",
       "2022-04-12          1334.0             2.0  \n",
       "2022-04-13           682.0             5.0  \n",
       "2022-04-14           852.0            14.0  \n",
       "2022-04-15           872.0             6.0  \n",
       "2022-04-16             0.0             0.0  \n",
       "2022-04-17             0.0             0.0  \n",
       "2022-04-18           928.0             4.0  \n",
       "2022-04-19          1737.0             4.0  \n",
       "2022-04-20           976.0            17.0  \n",
       "2022-04-21          1117.0             3.0  \n",
       "2022-04-22          1463.0            10.0  \n",
       "2022-04-23             0.0             0.0  \n",
       "2022-04-24             0.0             0.0  \n",
       "2022-04-28          1636.0             4.0  \n",
       "2022-04-29          1972.0             5.0  \n",
       "2022-04-30             0.0             0.0  \n",
       "2022-05-01             0.0             0.0  \n",
       "2022-05-05          2277.0             6.0  \n",
       "2022-05-06          2333.0             4.0  \n",
       "2022-05-07             0.0             0.0  \n",
       "2022-05-08             0.0             0.0  \n",
       "2022-05-11          1790.0            12.0  "
      ]
     },
     "execution_count": 27,
     "metadata": {},
     "output_type": "execute_result"
    }
   ],
   "source": [
    "state_covid_cases_df.tail(40)"
   ]
  },
  {
   "cell_type": "code",
   "execution_count": 28,
   "id": "a2a83221",
   "metadata": {},
   "outputs": [
    {
     "data": {
      "text/plain": [
       "MT_total_cases_cum    0\n",
       "MT_total_death_cum    0\n",
       "MT_total_cases        3\n",
       "MT_total_death        7\n",
       "MN_total_cases_cum    0\n",
       "MN_total_death_cum    0\n",
       "MN_total_cases        2\n",
       "MN_total_death        3\n",
       "dtype: int64"
      ]
     },
     "execution_count": 28,
     "metadata": {},
     "output_type": "execute_result"
    }
   ],
   "source": [
    "# Number of negative values after precessing\n",
    "state_covid_cases_df.where(state_covid_cases_df < 0).count()"
   ]
  },
  {
   "cell_type": "markdown",
   "id": "b36a0948",
   "metadata": {},
   "source": [
    "##### The negative values present in the dataset should be replaced with zero values as negative values for number of cases and deaths does not make sense. These fifteen values are replaced with zeros"
   ]
  },
  {
   "cell_type": "code",
   "execution_count": 29,
   "id": "cd1e241c",
   "metadata": {},
   "outputs": [
    {
     "data": {
      "text/plain": [
       "MT_total_cases_cum    0\n",
       "MT_total_death_cum    0\n",
       "MT_total_cases        0\n",
       "MT_total_death        7\n",
       "MN_total_cases_cum    0\n",
       "MN_total_death_cum    0\n",
       "MN_total_cases        2\n",
       "MN_total_death        3\n",
       "dtype: int64"
      ]
     },
     "execution_count": 29,
     "metadata": {},
     "output_type": "execute_result"
    }
   ],
   "source": [
    "state_covid_cases_df.MT_total_cases = state_covid_cases_df.MT_total_cases.mask(state_covid_cases_df.MT_total_cases.lt(0),0)\n",
    "state_covid_cases_df.where(state_covid_cases_df < 0).count()"
   ]
  },
  {
   "cell_type": "code",
   "execution_count": 30,
   "id": "2ff0d5b1",
   "metadata": {},
   "outputs": [
    {
     "data": {
      "text/plain": [
       "MT_total_cases_cum    0\n",
       "MT_total_death_cum    0\n",
       "MT_total_cases        0\n",
       "MT_total_death        0\n",
       "MN_total_cases_cum    0\n",
       "MN_total_death_cum    0\n",
       "MN_total_cases        2\n",
       "MN_total_death        3\n",
       "dtype: int64"
      ]
     },
     "execution_count": 30,
     "metadata": {},
     "output_type": "execute_result"
    }
   ],
   "source": [
    "state_covid_cases_df.MT_total_death = state_covid_cases_df.MT_total_death.mask(state_covid_cases_df.MT_total_death.lt(0),0)\n",
    "state_covid_cases_df.where(state_covid_cases_df < 0).count()"
   ]
  },
  {
   "cell_type": "code",
   "execution_count": 31,
   "id": "e5420096",
   "metadata": {},
   "outputs": [
    {
     "data": {
      "text/plain": [
       "MT_total_cases_cum    0\n",
       "MT_total_death_cum    0\n",
       "MT_total_cases        0\n",
       "MT_total_death        0\n",
       "MN_total_cases_cum    0\n",
       "MN_total_death_cum    0\n",
       "MN_total_cases        0\n",
       "MN_total_death        3\n",
       "dtype: int64"
      ]
     },
     "execution_count": 31,
     "metadata": {},
     "output_type": "execute_result"
    }
   ],
   "source": [
    "state_covid_cases_df.MN_total_cases = state_covid_cases_df.MN_total_cases.mask(state_covid_cases_df.MN_total_cases.lt(0),0)\n",
    "state_covid_cases_df.where(state_covid_cases_df < 0).count()"
   ]
  },
  {
   "cell_type": "code",
   "execution_count": 32,
   "id": "01e44c95",
   "metadata": {},
   "outputs": [
    {
     "data": {
      "text/plain": [
       "MT_total_cases_cum    0\n",
       "MT_total_death_cum    0\n",
       "MT_total_cases        0\n",
       "MT_total_death        0\n",
       "MN_total_cases_cum    0\n",
       "MN_total_death_cum    0\n",
       "MN_total_cases        0\n",
       "MN_total_death        0\n",
       "dtype: int64"
      ]
     },
     "execution_count": 32,
     "metadata": {},
     "output_type": "execute_result"
    }
   ],
   "source": [
    "state_covid_cases_df.MN_total_death = state_covid_cases_df.MN_total_death.mask(state_covid_cases_df.MN_total_death.lt(0),0)\n",
    "state_covid_cases_df.where(state_covid_cases_df < 0).count()"
   ]
  },
  {
   "cell_type": "code",
   "execution_count": 33,
   "id": "085a32c8",
   "metadata": {},
   "outputs": [],
   "source": [
    "state_covid_cases_df.to_csv('cleaned_covid_cases_and_death_data.csv') "
   ]
  },
  {
   "cell_type": "markdown",
   "id": "111c3dc1",
   "metadata": {},
   "source": [
    "#### 2. Solve the required inferences below for your COVID19 datasets (Cases dataset consists of the cumulative #cases and #deaths while the Vaccinations dataset consists of #vaccines administered information). The datasets provided contain cumulative data and hence you should first calculate daily stats for each relevant column. Unless otherwise stated, always use daily stats for the purpose of reporting any inference/observation. Only use tools/tests learned in class. Show your work clearly and comment on results as appropriate. This will be 60% of the project grade, with 12% for each of the five tasks below. Use the Cases dataset for tasks a, b and c, and the Vaccinations dataset for tasks d and e."
   ]
  },
  {
   "cell_type": "markdown",
   "id": "2d1cce46",
   "metadata": {},
   "source": [
    "#### a. In this step, we want to check, for both the states assigned to your group, how the mean of monthly COVID19 stats has changed between Feb 2021 and March 2021. Apply the Wald’s test, Z-test, and t-test (assume all are applicable) to check whether the mean of COVID19 deaths and #cases are different for Feb’21 and March’21 in the two states. That is, we are checking, for each state separately, whether the mean of daily cases and the mean of daily deaths for Feb’21 is different from the corresponding mean of daily values for March’21. Use MLE for Wald’s test as the estimator; assume for Wald’s estimator purposes that daily data is Poisson distributed. Note, you have to report results for deaths and #cases in both states separately. After running the test and reporting the numbers, check and comment on whether the tests are applicable or not. First use one-sample tests for Wald’s, Z-test, and t-test by computing the sample mean of daily values from Feb’21 and using that as a guess for mean of daily values for March’21; here, your sample data for computing sample mean will be the 28 daily values in Feb’21 whereas your sample data for running the test will be the 31 daily values of March’21. Then, repeat with the two-sample version of Wald’s and two-sample unpaired t-test (here, your two samples will be the 28 values of Feb’21 and the 31 values of March’21). Use α=0.05 for all. For t-test, the threshold to check against is tn-1,α/2 for two-tailed, where n is the number of data points. You can find these values in online t tables, similar to z tables. For Z-test, use the uncorrected sample standard deviation (n in the denominator instead of n-1) of the entire COVID19 dataset you have for each state as the true sigma value."
   ]
  },
  {
   "cell_type": "code",
   "execution_count": 34,
   "id": "6b00ad54",
   "metadata": {
    "scrolled": false
   },
   "outputs": [
    {
     "name": "stdout",
     "output_type": "stream",
     "text": [
      "February data: 26\n",
      "March data: 29\n"
     ]
    }
   ],
   "source": [
    "from datetime import datetime\n",
    "\n",
    "state_covid_cases_df.index = pd.to_datetime(state_covid_cases_df.index)\n",
    "\n",
    "feb_month_data = state_covid_cases_df[(state_covid_cases_df.index >= '2021-02-01') & (state_covid_cases_df.index <= '2021-02-28')]\n",
    "print(\"February data:\", len(feb_month_data))\n",
    "\n",
    "mar_month_data = state_covid_cases_df[(state_covid_cases_df.index >= '2021-03-01') & (state_covid_cases_df.index <= '2021-03-31')]\n",
    "print(\"March data:\", len(mar_month_data))"
   ]
  },
  {
   "cell_type": "markdown",
   "id": "cc58603f",
   "metadata": {},
   "source": [
    "### Montana"
   ]
  },
  {
   "cell_type": "code",
   "execution_count": 35,
   "id": "a77af621",
   "metadata": {},
   "outputs": [],
   "source": [
    "# How the mean of monthly COVID19 stats has changed between Feb 2021 and March 2021\n",
    "\n",
    "feb_month_data_mean_cases_MT = feb_month_data['MT_total_cases'].mean()\n",
    "feb_month_data_mean_death_MT = feb_month_data['MT_total_death'].mean()\n",
    "\n",
    "mar_month_data_mean_cases_MT = mar_month_data['MT_total_cases'].mean()\n",
    "mar_month_data_mean_death_MT = mar_month_data['MT_total_death'].mean()"
   ]
  },
  {
   "cell_type": "markdown",
   "id": "fc056ae1",
   "metadata": {},
   "source": [
    "### Wald's Test for MT covid death\n",
    "\n",
    "#### Given use MLE for Wald’s test as the estimator; assume for Wald’s estimator purposes that daily data is Poisson distributed. (MLE estimate for mean is same as sample mean). Using CLT, the mean is asymptotically normal as the number of samples is high. Hence, wald's test is applicable \n",
    "\n",
    "\n",
    "#### Null hypothesis (H0): \n",
    "mean_of_feb_death = mean_of_mar_death\n",
    "\n",
    "#### Alternate hypothesis (H1): \n",
    "mean_of_feb_death != mean_of_mar_death"
   ]
  },
  {
   "cell_type": "code",
   "execution_count": 36,
   "id": "6ca374ec",
   "metadata": {},
   "outputs": [],
   "source": [
    "# def wald_2_sample_test(mean1, mean2, data1, data2):\n",
    "#     denominator = np.sqrt(mean1/len(data1) + mean2/len(data2))\n",
    "#     return (mean1 - mean2) / denominator\n",
    "\n",
    "def wald_one_sample_test(theta_hat, theta_0, data):\n",
    "    # theta_hat is the estimator for theta\n",
    "    # theta_0 is the actual mean value\n",
    "    \n",
    "    se_hat_theta = np.sqrt(theta_hat/len(data))\n",
    "    return np.abs((theta_hat - theta_0) / se_hat_theta)"
   ]
  },
  {
   "cell_type": "code",
   "execution_count": 37,
   "id": "cca6c91c",
   "metadata": {},
   "outputs": [
    {
     "name": "stdout",
     "output_type": "stream",
     "text": [
      "Sample mean death for feb month: 2.1923076923076925\n",
      "Sample mean death for mar month: 2.103448275862069\n",
      "W: 0.3299411905963097\n",
      "Accept the Null hypothesis\n"
     ]
    }
   ],
   "source": [
    "# Given, computing the sample mean of daily values from Feb’21 and \n",
    "# using that as a guess for mean of daily values for March’21\n",
    "\n",
    "wald_onesample_death_MT = wald_one_sample_test(feb_month_data_mean_death_MT, \n",
    "                                               mar_month_data_mean_death_MT, \n",
    "                                               feb_month_data)\n",
    "print(\"Sample mean death for feb month:\", feb_month_data_mean_death_MT)\n",
    "print(\"Sample mean death for mar month:\", mar_month_data_mean_death_MT)\n",
    "print(\"W:\", wald_onesample_death_MT)\n",
    "\n",
    "# alpha given 0.05\n",
    "if wald_onesample_death_MT > 1.96: # Z_(alpha/2)\n",
    "    print(\"Reject the Null hypothesis\")\n",
    "else:\n",
    "    print(\"Accept the Null hypothesis\")"
   ]
  },
  {
   "cell_type": "markdown",
   "id": "6f7edc32",
   "metadata": {},
   "source": [
    "Wald's statistic is greater than Z_(alpha/2), so we reject the null hypothesis"
   ]
  },
  {
   "cell_type": "markdown",
   "id": "3608aaf4",
   "metadata": {},
   "source": [
    "### Wald's Test for MT covid cases\n",
    "\n",
    "#### Given use MLE for Wald’s test as the estimator; assume for Wald’s estimator purposes that daily data is Poisson distributed. (MLE estimate for mean is same as sample mean). Using CLT, the mean is asymptotically normal as the number of samples is high. Hence, wald's test is applicable \n",
    "\n",
    "\n",
    "#### Null hypothesis (H0): \n",
    "mean_of_feb_cases = mean_of_mar_cases\n",
    "\n",
    "#### Alternate hypothesis (H1): \n",
    "mean_of_feb_cases != mean_of_mar_cases"
   ]
  },
  {
   "cell_type": "code",
   "execution_count": 31,
   "id": "db83a397",
   "metadata": {},
   "outputs": [
    {
     "name": "stdout",
     "output_type": "stream",
     "text": [
      "Sample mean cases for feb month: 202.5\n",
      "Sample mean cases for mar month: 148.58620689655172\n",
      "W: 19.31852871948626\n",
      "Reject the Null hypothesis\n"
     ]
    }
   ],
   "source": [
    "# Given, computing the sample mean of daily values from Feb’21 and \n",
    "# using that as a guess for mean of daily values for March’21\n",
    "\n",
    "wald_onesample_cases_MT = wald_one_sample_test(feb_month_data_mean_cases_MT, \n",
    "                                               mar_month_data_mean_cases_MT, \n",
    "                                               feb_month_data)\n",
    "print(\"Sample mean cases for feb month:\", feb_month_data_mean_cases_MT)\n",
    "print(\"Sample mean cases for mar month:\", mar_month_data_mean_cases_MT)\n",
    "print(\"W:\", wald_onesample_cases_MT)\n",
    "\n",
    "if wald_onesample_cases_MT > 1.96: # Z_(alpha/2)\n",
    "    print(\"Reject the Null hypothesis\")\n",
    "else:\n",
    "    print(\"Accept the Null hypothesis\")"
   ]
  },
  {
   "cell_type": "markdown",
   "id": "7e0c166b",
   "metadata": {},
   "source": [
    "Wald's statistic is greater than Z_(alpha/2), so we reject the null hypothesis"
   ]
  },
  {
   "cell_type": "markdown",
   "id": "abb24274",
   "metadata": {},
   "source": [
    "### Z Test for MT covid death\n",
    "\n",
    "#### Sample standard deviation is known from the data, and number of samples is high (the mean is asymptotically normal). Hence Z-test is applicable.\n",
    "\n",
    "\n",
    "#### Null hypothesis (H0): \n",
    "mean_of_feb_death = mean_of_mar_death\n",
    "\n",
    "#### Alternate hypothesis (H1): \n",
    "mean_of_feb_death != mean_of_mar_death"
   ]
  },
  {
   "cell_type": "code",
   "execution_count": 32,
   "id": "65efde05",
   "metadata": {},
   "outputs": [],
   "source": [
    "def z_test(sample_mean, mu_0, data, coluMT):\n",
    "    \n",
    "    mean_ = data[coluMT].mean()\n",
    "    variance = np.sum(np.square(data[coluMT] - mean_)) / len(data)\n",
    "    return np.abs((sample_mean - mu_0) / (np.sqrt(variance)/np.sqrt(len(data))))"
   ]
  },
  {
   "cell_type": "code",
   "execution_count": 33,
   "id": "7ffa6d0b",
   "metadata": {},
   "outputs": [
    {
     "name": "stdout",
     "output_type": "stream",
     "text": [
      "Sample mean death for feb month: 2.1923076923076925\n",
      "Sample mean death for mar month: 2.103448275862069\n",
      "Z: 0.9925760422917541\n",
      "Accept the Null hypothesis\n"
     ]
    }
   ],
   "source": [
    "# Given, computing the sample mean of daily values from Feb’21 and \n",
    "# using that as a guess for mean of daily values for March’21\n",
    "\n",
    "z_death_MT = z_test(feb_month_data_mean_death_MT, \n",
    "                    mar_month_data_mean_death_MT, \n",
    "                    state_covid_cases_df,\n",
    "                    'MT_total_death')\n",
    "print(\"Sample mean death for feb month:\", feb_month_data_mean_death_MT)\n",
    "print(\"Sample mean death for mar month:\", mar_month_data_mean_death_MT)\n",
    "print(\"Z:\", z_death_MT)\n",
    "\n",
    "if z_death_MT > 1.96: # Z_(alpha/2)\n",
    "    print(\"Reject the Null hypothesis\")\n",
    "else:\n",
    "    print(\"Accept the Null hypothesis\")"
   ]
  },
  {
   "cell_type": "markdown",
   "id": "cb0a46f3",
   "metadata": {},
   "source": [
    "Z statistic is less than Z_(alpha/2), so we accept the null hypothesis"
   ]
  },
  {
   "cell_type": "markdown",
   "id": "cbd2ec32",
   "metadata": {},
   "source": [
    "### Z Test for MT covid cases\n",
    "\n",
    "#### Sample standard deviation is known from the data, and number of samples is high (the mean is asymptotically normal). Hence Z-test is applicable.\n",
    "\n",
    "\n",
    "#### Null hypothesis (H0): \n",
    "mean_of_feb_cases = mean_of_mar_cases\n",
    "\n",
    "#### Alternate hypothesis (H1): \n",
    "mean_of_feb_cases != mean_of_mar_cases"
   ]
  },
  {
   "cell_type": "code",
   "execution_count": 34,
   "id": "a466fb51",
   "metadata": {},
   "outputs": [
    {
     "name": "stdout",
     "output_type": "stream",
     "text": [
      "Sample mean cases for feb month: 202.5\n",
      "Sample mean cases for mar month: 148.58620689655172\n",
      "Z: 10.11618971404372\n",
      "Reject the Null hypothesis\n"
     ]
    }
   ],
   "source": [
    "# Given, computing the sample mean of daily values from Feb’21 and \n",
    "# using that as a guess for mean of daily values for March’21\n",
    "\n",
    "z_cases_MT = z_test(feb_month_data_mean_cases_MT, \n",
    "                    mar_month_data_mean_cases_MT, \n",
    "                    state_covid_cases_df,\n",
    "                    'MT_total_cases')\n",
    "print(\"Sample mean cases for feb month:\", feb_month_data_mean_cases_MT)\n",
    "print(\"Sample mean cases for mar month:\", mar_month_data_mean_cases_MT)\n",
    "print(\"Z:\", z_cases_MT)\n",
    "\n",
    "if z_cases_MT > 1.96: # Z_(alpha/2)\n",
    "    print(\"Reject the Null hypothesis\")\n",
    "else:\n",
    "    print(\"Accept the Null hypothesis\")"
   ]
  },
  {
   "cell_type": "markdown",
   "id": "f1345c0c",
   "metadata": {},
   "source": [
    "Z statistic is greater than Z_(alpha/2), so we reject the null hypothesis"
   ]
  },
  {
   "cell_type": "markdown",
   "id": "2a7daaae",
   "metadata": {},
   "source": [
    "### T Test for MT covid death\n",
    "\n",
    "#### the mean is asymptotically normal. t-test is applicable.\n",
    "\n",
    "\n",
    "#### Null hypothesis (H0): \n",
    "mean_of_feb_death = mean_of_mar_death\n",
    "\n",
    "#### Alternate hypothesis (H1): \n",
    "mean_of_feb_death != mean_of_mar_death"
   ]
  },
  {
   "cell_type": "code",
   "execution_count": 35,
   "id": "a165b78f",
   "metadata": {},
   "outputs": [],
   "source": [
    "def t_test(mean1, mean2, data, coluMT):\n",
    "    \n",
    "    uncorrected_sample_std = np.sum(np.square(data[coluMT] - mean1)) / len(data)\n",
    "    return np.abs((mean1 - mean2) / (np.sqrt(uncorrected_sample_std)/np.sqrt(len(data))))"
   ]
  },
  {
   "cell_type": "code",
   "execution_count": 36,
   "id": "baa9a774",
   "metadata": {},
   "outputs": [
    {
     "name": "stdout",
     "output_type": "stream",
     "text": [
      "Sample mean death for feb month: 2.1923076923076925\n",
      "Sample mean death for mar month: 2.103448275862069\n",
      "Alpha: 0.05 , n: 26\n",
      "T: 0.27220405470995673\n",
      "Accept the Null hypothesis\n"
     ]
    }
   ],
   "source": [
    "# Given, computing the sample mean of daily values from Feb’21 and \n",
    "# using that as a guess for mean of daily values for March’21\n",
    "\n",
    "t_death_MT = t_test(feb_month_data_mean_death_MT, \n",
    "                    mar_month_data_mean_death_MT, \n",
    "                    feb_month_data,\n",
    "                    'MT_total_death')\n",
    "print(\"Sample mean death for feb month:\", feb_month_data_mean_death_MT)\n",
    "print(\"Sample mean death for mar month:\", mar_month_data_mean_death_MT)\n",
    "print(\"Alpha:\", 0.05, \", n:\", 26)\n",
    "print(\"T:\", t_death_MT)\n",
    "\n",
    "\n",
    "if t_death_MT > 2.059539: # t_(n-1, alpha/2)\n",
    "    print(\"Reject the Null hypothesis\")\n",
    "else:\n",
    "    print(\"Accept the Null hypothesis\")"
   ]
  },
  {
   "cell_type": "markdown",
   "id": "4bb2c2b6",
   "metadata": {},
   "source": [
    "### T Test for MT covid cases\n",
    "\n",
    "#### the mean is asymptotically normal. t-test is applicable.\n",
    "\n",
    "\n",
    "#### Null hypothesis (H0): \n",
    "mean_of_feb_cases = mean_of_mar_cases\n",
    "\n",
    "#### Alternate hypothesis (H1): \n",
    "mean_of_feb_cases != mean_of_mar_cases"
   ]
  },
  {
   "cell_type": "code",
   "execution_count": 37,
   "id": "47d3819b",
   "metadata": {},
   "outputs": [
    {
     "name": "stdout",
     "output_type": "stream",
     "text": [
      "Sample mean cases for feb month: 202.5\n",
      "Sample mean cases for mar month: 148.58620689655172\n",
      "Alpha: 0.05 , n: 26\n",
      "T: 3.30230309416593\n",
      "Reject the Null hypothesis\n"
     ]
    }
   ],
   "source": [
    "# Given, computing the sample mean of daily values from Feb’21 and \n",
    "# using that as a guess for mean of daily values for March’21\n",
    "\n",
    "t_cases_MT = t_test(feb_month_data_mean_cases_MT, \n",
    "                    mar_month_data_mean_cases_MT, \n",
    "                    feb_month_data,\n",
    "                    'MT_total_cases')\n",
    "print(\"Sample mean cases for feb month:\", feb_month_data_mean_cases_MT)\n",
    "print(\"Sample mean cases for mar month:\", mar_month_data_mean_cases_MT)\n",
    "print(\"Alpha:\", 0.05, \", n:\", 26)\n",
    "print(\"T:\", t_cases_MT)\n",
    "\n",
    "if t_cases_MT > 2.059539: # t_(n-1, alpha/2)\n",
    "    print(\"Reject the Null hypothesis\")\n",
    "else:\n",
    "    print(\"Accept the Null hypothesis\")"
   ]
  },
  {
   "cell_type": "markdown",
   "id": "0c1c0235",
   "metadata": {},
   "source": [
    "### Wald's two sample test for MT covid death\n",
    "\n",
    "#### Given use MLE for Wald’s test as the estimator; assume for Wald’s estimator purposes that daily data is Poisson distributed. (MLE estimate for mean is same as sample mean). Here, we compare two samples feb data and march data. Using CLT, the mean is asymptotically normal as the number of samples is high. Hence, wald's test is applicable \n",
    "\n",
    "\n",
    "#### Null hypothesis (H0): \n",
    "mean_of_feb_death = mean_of_mar_death\n",
    "\n",
    "#### Alternate hypothesis (H1): \n",
    "mean_of_feb_death != mean_of_mar_death"
   ]
  },
  {
   "cell_type": "code",
   "execution_count": 38,
   "id": "c3596202",
   "metadata": {},
   "outputs": [],
   "source": [
    "def wald_two_sample_test(mean1, mean2, data1, data2):\n",
    "    denominator = np.sqrt(mean1/len(data1) + mean2/len(data2))\n",
    "    return np.abs(mean1 - mean2) / denominator"
   ]
  },
  {
   "cell_type": "code",
   "execution_count": 39,
   "id": "9976ad59",
   "metadata": {},
   "outputs": [
    {
     "name": "stdout",
     "output_type": "stream",
     "text": [
      "Sample mean death for feb month: 2.1923076923076925\n",
      "Sample mean death for mar month: 2.103448275862069\n",
      "W: 0.2243665520023155\n",
      "Accept the Null hypothesis\n"
     ]
    }
   ],
   "source": [
    "# Given, computing the sample mean of daily values from Feb’21 and \n",
    "# using that as a guess for mean of daily values for March’21\n",
    "\n",
    "wald_twosample_death_MT = wald_two_sample_test(feb_month_data_mean_death_MT, \n",
    "                                               mar_month_data_mean_death_MT, \n",
    "                                               feb_month_data,\n",
    "                                               mar_month_data)\n",
    "print(\"Sample mean death for feb month:\", feb_month_data_mean_death_MT)\n",
    "print(\"Sample mean death for mar month:\", mar_month_data_mean_death_MT)\n",
    "print(\"W:\", wald_twosample_death_MT)\n",
    "\n",
    "if wald_twosample_death_MT > 1.96: # Z_(alpha/2)\n",
    "    print(\"Reject the Null hypothesis\")\n",
    "else:\n",
    "    print(\"Accept the Null hypothesis\")"
   ]
  },
  {
   "cell_type": "markdown",
   "id": "2bcc2df2",
   "metadata": {},
   "source": [
    "Wald's statistic is less than Z_(alpha/2), so we accept the null hypothesis"
   ]
  },
  {
   "cell_type": "markdown",
   "id": "eedea904",
   "metadata": {},
   "source": [
    "### Wald's two sample test for MT covid cases\n",
    "\n",
    "#### Given use MLE for Wald’s test as the estimator; assume for Wald’s estimator purposes that daily data is Poisson distributed. (MLE estimate for mean is same as sample mean). Here, we compare two samples feb data and march data. Using CLT, the mean is asymptotically normal as the number of samples is high. Hence, wald's test is applicable \n",
    "\n",
    "\n",
    "#### Null hypothesis (H0): \n",
    "mean_of_feb_cases = mean_of_mar_cases\n",
    "\n",
    "#### Alternate hypothesis (H1): \n",
    "mean_of_feb_cases != mean_of_mar_cases"
   ]
  },
  {
   "cell_type": "code",
   "execution_count": 40,
   "id": "47c9ad02",
   "metadata": {},
   "outputs": [
    {
     "name": "stdout",
     "output_type": "stream",
     "text": [
      "Sample mean cases for feb month: 202.5\n",
      "Sample mean cases for mar month: 148.58620689655172\n",
      "W: 15.003792394225187\n",
      "Reject the Null hypothesis\n"
     ]
    }
   ],
   "source": [
    "# Given, computing the sample mean of daily values from Feb’21 and \n",
    "# using that as a guess for mean of daily values for March’21\n",
    "\n",
    "wald_twosample_cases_MT = wald_two_sample_test(feb_month_data_mean_cases_MT, \n",
    "                                               mar_month_data_mean_cases_MT, \n",
    "                                               feb_month_data,\n",
    "                                               mar_month_data)\n",
    "print(\"Sample mean cases for feb month:\", feb_month_data_mean_cases_MT)\n",
    "print(\"Sample mean cases for mar month:\", mar_month_data_mean_cases_MT)\n",
    "print(\"W:\", wald_twosample_cases_MT)\n",
    "\n",
    "if wald_twosample_cases_MT > 1.96: # Z_(alpha/2)\n",
    "    print(\"Reject the Null hypothesis\")\n",
    "else:\n",
    "    print(\"Accept the Null hypothesis\")"
   ]
  },
  {
   "cell_type": "markdown",
   "id": "7d8a2ae8",
   "metadata": {},
   "source": [
    "Wald's statistic is greater than Z_(alpha/2), so we reject the null hypothesis"
   ]
  },
  {
   "cell_type": "markdown",
   "id": "630d4e19",
   "metadata": {},
   "source": [
    "### Unpaired two sample T Test for MT covid death\n",
    "\n",
    "#### Here, we compare two samples feb data and march data. the mean is asymptotically normal. t-test is applicable.\n",
    "\n",
    "#### Null hypothesis (H0): \n",
    "mean_of_feb_death = mean_of_mar_death\n",
    "\n",
    "#### Alternate hypothesis (H1): \n",
    "mean_of_feb_death != mean_of_mar_death"
   ]
  },
  {
   "cell_type": "code",
   "execution_count": 41,
   "id": "3e81af00",
   "metadata": {},
   "outputs": [],
   "source": [
    "def upaired_t_test(mean1, mean2, data1, data2, coluMT):\n",
    "    \n",
    "    uncorrected_sample_std1 = np.sum(np.square(data1[coluMT] - mean1)) / len(data1)\n",
    "    uncorrected_sample_std2 = np.sum(np.square(data2[coluMT] - mean2)) / len(data2)\n",
    "    return np.abs(mean1 - mean2) / np.sqrt(uncorrected_sample_std1/len(data1) + uncorrected_sample_std2/len(data2))"
   ]
  },
  {
   "cell_type": "code",
   "execution_count": 42,
   "id": "3c9b27b9",
   "metadata": {},
   "outputs": [
    {
     "name": "stdout",
     "output_type": "stream",
     "text": [
      "Sample mean death for feb month: 2.1923076923076925\n",
      "Sample mean death for mar month: 2.103448275862069\n",
      "Alpha: 0.05 , n+m-2: 53\n",
      "T: 0.1401015997350352\n",
      "Accept the Null hypothesis\n"
     ]
    }
   ],
   "source": [
    "# Given, computing the sample mean of daily values from Feb’21 and \n",
    "# using that as a guess for mean of daily values for March’21\n",
    "\n",
    "unpaired_t_death_MT = upaired_t_test(feb_month_data_mean_death_MT, \n",
    "                                     mar_month_data_mean_death_MT, \n",
    "                                     feb_month_data,\n",
    "                                     mar_month_data,\n",
    "                                     'MT_total_death')\n",
    "\n",
    "print(\"Sample mean death for feb month:\", feb_month_data_mean_death_MT)\n",
    "print(\"Sample mean death for mar month:\", mar_month_data_mean_death_MT)\n",
    "print(\"Alpha:\", 0.05, \", n+m-2:\", 26 -1 + 29 - 1)\n",
    "print(\"T:\", unpaired_t_death_MT)\n",
    "\n",
    "\n",
    "if unpaired_t_death_MT > 2.005746: # t_(n+m-2, alpha/2)\n",
    "    print(\"Reject the Null hypothesis\")\n",
    "else:\n",
    "    print(\"Accept the Null hypothesis\")"
   ]
  },
  {
   "cell_type": "markdown",
   "id": "352c38ff",
   "metadata": {},
   "source": [
    "### Unpaired two sample T Test for MT covid cases\n",
    "\n",
    "#### Here, we compare two samples feb data and march data. the mean is asymptotically normal. t-test is applicable.\n",
    "\n",
    "#### Null hypothesis (H0): \n",
    "mean_of_feb_cases = mean_of_mar_cases\n",
    "\n",
    "#### Alternate hypothesis (H1): \n",
    "mean_of_feb_cases != mean_of_mar_cases"
   ]
  },
  {
   "cell_type": "code",
   "execution_count": 43,
   "id": "3f73b830",
   "metadata": {},
   "outputs": [
    {
     "name": "stdout",
     "output_type": "stream",
     "text": [
      "Sample mean cases for feb month: 202.5\n",
      "Sample mean cases for mar month: 148.58620689655172\n",
      "Alpha: 0.05 , n+m-2: 53\n",
      "T: 2.358955563502015\n",
      "Reject the Null hypothesis\n"
     ]
    }
   ],
   "source": [
    "# Given, computing the sample mean of daily values from Feb’21 and \n",
    "# using that as a guess for mean of daily values for March’21\n",
    "\n",
    "unpaired_t_cases_MT = upaired_t_test(feb_month_data_mean_cases_MT, \n",
    "                                     mar_month_data_mean_cases_MT, \n",
    "                                     feb_month_data,\n",
    "                                     mar_month_data,\n",
    "                                     'MT_total_cases')\n",
    "\n",
    "print(\"Sample mean cases for feb month:\", feb_month_data_mean_cases_MT)\n",
    "print(\"Sample mean cases for mar month:\", mar_month_data_mean_cases_MT)\n",
    "print(\"Alpha:\", 0.05, \", n+m-2:\", 26 -1 + 29 - 1)\n",
    "print(\"T:\", unpaired_t_cases_MT)\n",
    "\n",
    "\n",
    "if unpaired_t_cases_MT > 2.005746: # t_(n+m-2, alpha/2)\n",
    "    print(\"Reject the Null hypothesis\")\n",
    "else:\n",
    "    print(\"Accept the Null hypothesis\")"
   ]
  },
  {
   "cell_type": "markdown",
   "id": "6d58dd69",
   "metadata": {},
   "source": [
    "### Minnesota"
   ]
  },
  {
   "cell_type": "code",
   "execution_count": 44,
   "id": "f504312a",
   "metadata": {},
   "outputs": [],
   "source": [
    "# How the mean of monthly COVID19 stats has changed between Feb 2021 and March 2021\n",
    "\n",
    "feb_month_data_mean_cases = feb_month_data['MN_total_cases'].mean()\n",
    "feb_month_data_mean_death = feb_month_data['MN_total_death'].mean()\n",
    "\n",
    "mar_month_data_mean_cases = mar_month_data['MN_total_cases'].mean()\n",
    "mar_month_data_mean_death = mar_month_data['MN_total_death'].mean()"
   ]
  },
  {
   "cell_type": "markdown",
   "id": "ff909888",
   "metadata": {},
   "source": [
    "### Wald's Test for MN covid death\n",
    "\n",
    "#### Given use MLE for Wald’s test as the estimator; assume for Wald’s estimator purposes that daily data is Poisson distributed. (MLE estimate for mean is same as sample mean). Using CLT, the mean is asymptotically normal as the number of samples is high. Hence, wald's test is applicable \n",
    "\n",
    "\n",
    "#### Null hypothesis (H0): \n",
    "mean_of_feb_death = mean_of_mar_death\n",
    "\n",
    "#### Alternate hypothesis (H1): \n",
    "mean_of_feb_death != mean_of_mar_death"
   ]
  },
  {
   "cell_type": "code",
   "execution_count": 45,
   "id": "75ae0926",
   "metadata": {},
   "outputs": [],
   "source": [
    "# def wald_2_sample_test(mean1, mean2, data1, data2):\n",
    "#     denominator = np.sqrt(mean1/len(data1) + mean2/len(data2))\n",
    "#     return (mean1 - mean2) / denominator\n",
    "\n",
    "def wald_one_sample_test(theta_hat, theta_0, data):\n",
    "    # theta_hat is the estimator for theta\n",
    "    # theta_0 is the actual mean value\n",
    "    \n",
    "    se_hat_theta = np.sqrt(theta_hat/len(data))\n",
    "    return np.abs((theta_hat - theta_0) / se_hat_theta)"
   ]
  },
  {
   "cell_type": "code",
   "execution_count": 46,
   "id": "cb4d9765",
   "metadata": {},
   "outputs": [
    {
     "name": "stdout",
     "output_type": "stream",
     "text": [
      "Sample mean death for feb month: 9.653846153846153\n",
      "Sample mean death for mar month: 7.9655172413793105\n",
      "W: 2.7707257763569073\n",
      "Reject the Null hypothesis\n"
     ]
    }
   ],
   "source": [
    "# Given, computing the sample mean of daily values from Feb’21 and \n",
    "# using that as a guess for mean of daily values for March’21\n",
    "\n",
    "wald_onesample_death_MN = wald_one_sample_test(feb_month_data_mean_death, \n",
    "                                               mar_month_data_mean_death, \n",
    "                                               feb_month_data)\n",
    "print(\"Sample mean death for feb month:\", feb_month_data_mean_death)\n",
    "print(\"Sample mean death for mar month:\", mar_month_data_mean_death)\n",
    "print(\"W:\", wald_onesample_death_MN)\n",
    "\n",
    "if wald_onesample_death_MN > 1.96: # Z_(alpha/2)\n",
    "    print(\"Reject the Null hypothesis\")\n",
    "else:\n",
    "    print(\"Accept the Null hypothesis\")"
   ]
  },
  {
   "cell_type": "markdown",
   "id": "dfc042c5",
   "metadata": {},
   "source": [
    "Wald's statistic is greater than Z_(alpha/2), so we reject the null hypothesis"
   ]
  },
  {
   "cell_type": "markdown",
   "id": "c497f4b7",
   "metadata": {},
   "source": [
    "### Wald's Test for MN covid cases\n",
    "\n",
    "#### Given use MLE for Wald’s test as the estimator; assume for Wald’s estimator purposes that daily data is Poisson distributed. (MLE estimate for mean is same as sample mean). Using CLT, the mean is asymptotically normal as the number of samples is high. Hence, wald's test is applicable \n",
    "\n",
    "\n",
    "#### Null hypothesis (H0): \n",
    "mean_of_feb_cases = mean_of_mar_cases\n",
    "\n",
    "#### Alternate hypothesis (H1): \n",
    "mean_of_feb_cases != mean_of_mar_cases"
   ]
  },
  {
   "cell_type": "code",
   "execution_count": 47,
   "id": "e7f664c5",
   "metadata": {},
   "outputs": [
    {
     "name": "stdout",
     "output_type": "stream",
     "text": [
      "Sample mean cases for feb month: 828.8076923076923\n",
      "Sample mean cases for mar month: 1133.9655172413793\n",
      "W: 54.048581213448465\n",
      "Reject the Null hypothesis\n"
     ]
    }
   ],
   "source": [
    "# Given, computing the sample mean of daily values from Feb’21 and \n",
    "# using that as a guess for mean of daily values for March’21\n",
    "\n",
    "wald_onesample_cases_MN = wald_one_sample_test(feb_month_data_mean_cases, \n",
    "                                               mar_month_data_mean_cases, \n",
    "                                               feb_month_data)\n",
    "print(\"Sample mean cases for feb month:\", feb_month_data_mean_cases)\n",
    "print(\"Sample mean cases for mar month:\", mar_month_data_mean_cases)\n",
    "print(\"W:\", wald_onesample_cases_MN)\n",
    "\n",
    "if wald_onesample_cases_MN > 1.96: # Z_(alpha/2)\n",
    "    print(\"Reject the Null hypothesis\")\n",
    "else:\n",
    "    print(\"Accept the Null hypothesis\")"
   ]
  },
  {
   "cell_type": "markdown",
   "id": "3278da3d",
   "metadata": {},
   "source": [
    "Wald's statistic is greater than Z_(alpha/2), so we reject the null hypothesis"
   ]
  },
  {
   "cell_type": "markdown",
   "id": "060b0f2a",
   "metadata": {},
   "source": [
    "### Z Test for MN covid death\n",
    "\n",
    "#### Sample standard deviation is known from the data, and number of samples is high (the mean is asymptotically normal). Hence Z-test is applicable.\n",
    "\n",
    "\n",
    "#### Null hypothesis (H0): \n",
    "mean_of_feb_death = mean_of_mar_death\n",
    "\n",
    "#### Alternate hypothesis (H1): \n",
    "mean_of_feb_death != mean_of_mar_death"
   ]
  },
  {
   "cell_type": "code",
   "execution_count": 48,
   "id": "a0cc4cbb",
   "metadata": {},
   "outputs": [],
   "source": [
    "def z_test(sample_mean, mu_0, data, column):\n",
    "    \n",
    "    mean_ = data[column].mean()\n",
    "    variance = np.sum(np.square(data[column] - mean_)) / len(data)\n",
    "    return np.abs((sample_mean - mu_0) / (np.sqrt(variance)/np.sqrt(len(data))))"
   ]
  },
  {
   "cell_type": "code",
   "execution_count": 49,
   "id": "9fcc78aa",
   "metadata": {},
   "outputs": [
    {
     "name": "stdout",
     "output_type": "stream",
     "text": [
      "Sample mean death for feb month: 9.653846153846153\n",
      "Sample mean death for mar month: 7.9655172413793105\n",
      "Z: 5.243596730030624\n",
      "Reject the Null hypothesis\n"
     ]
    }
   ],
   "source": [
    "# Given, computing the sample mean of daily values from Feb’21 and \n",
    "# using that as a guess for mean of daily values for March’21\n",
    "\n",
    "z_death_MN = z_test(feb_month_data_mean_death, \n",
    "                    mar_month_data_mean_death, \n",
    "                    state_covid_cases_df,\n",
    "                    'MN_total_death')\n",
    "print(\"Sample mean death for feb month:\", feb_month_data_mean_death)\n",
    "print(\"Sample mean death for mar month:\", mar_month_data_mean_death)\n",
    "print(\"Z:\", z_death_MN)\n",
    "\n",
    "if z_death_MN > 1.96: # Z_(alpha/2)\n",
    "    print(\"Reject the Null hypothesis\")\n",
    "else:\n",
    "    print(\"Accept the Null hypothesis\")"
   ]
  },
  {
   "cell_type": "markdown",
   "id": "a4a32088",
   "metadata": {},
   "source": [
    "Z statistic is greater than Z_(alpha/2), so we reject the null hypothesis"
   ]
  },
  {
   "cell_type": "markdown",
   "id": "5c316278",
   "metadata": {},
   "source": [
    "### Z Test for MN covid cases\n",
    "\n",
    "#### Sample standard deviation is known from the data, and number of samples is high (the mean is asymptotically normal). Hence Z-test is applicable.\n",
    "\n",
    "\n",
    "#### Null hypothesis (H0): \n",
    "mean_of_feb_cases = mean_of_mar_cases\n",
    "\n",
    "#### Alternate hypothesis (H1): \n",
    "mean_of_feb_cases != mean_of_mar_cases"
   ]
  },
  {
   "cell_type": "code",
   "execution_count": 50,
   "id": "7fe60d4a",
   "metadata": {},
   "outputs": [
    {
     "name": "stdout",
     "output_type": "stream",
     "text": [
      "Sample mean cases for feb month: 828.8076923076923\n",
      "Sample mean cases for mar month: 1133.9655172413793\n",
      "Z: 12.810418919546303\n",
      "Reject the Null hypothesis\n"
     ]
    }
   ],
   "source": [
    "# Given, computing the sample mean of daily values from Feb’21 and \n",
    "# using that as a guess for mean of daily values for March’21\n",
    "\n",
    "z_cases_MN = z_test(feb_month_data_mean_cases, \n",
    "                    mar_month_data_mean_cases, \n",
    "                    state_covid_cases_df,\n",
    "                    'MN_total_cases')\n",
    "print(\"Sample mean cases for feb month:\", feb_month_data_mean_cases)\n",
    "print(\"Sample mean cases for mar month:\", mar_month_data_mean_cases)\n",
    "print(\"Z:\", z_cases_MN)\n",
    "\n",
    "if z_cases_MN > 1.96: # Z_(alpha/2)\n",
    "    print(\"Reject the Null hypothesis\")\n",
    "else:\n",
    "    print(\"Accept the Null hypothesis\")"
   ]
  },
  {
   "cell_type": "markdown",
   "id": "c9db3e64",
   "metadata": {},
   "source": [
    "Z statistic is greater than Z_(alpha/2), so we reject the null hypothesis"
   ]
  },
  {
   "cell_type": "markdown",
   "id": "6b15d128",
   "metadata": {},
   "source": [
    "### T Test for MN covid death\n",
    "\n",
    "#### the mean is asymptotically normal. t-test is applicable.\n",
    "\n",
    "\n",
    "#### Null hypothesis (H0): \n",
    "mean_of_feb_death = mean_of_mar_death\n",
    "\n",
    "#### Alternate hypothesis (H1): \n",
    "mean_of_feb_death != mean_of_mar_death"
   ]
  },
  {
   "cell_type": "code",
   "execution_count": 51,
   "id": "fd421629",
   "metadata": {},
   "outputs": [],
   "source": [
    "def t_test(mean1, mean2, data, column):\n",
    "    \n",
    "    uncorrected_sample_std = np.sum(np.square(data[column] - mean1)) / len(data)\n",
    "    return np.abs((mean1 - mean2) / (np.sqrt(uncorrected_sample_std)/np.sqrt(len(data))))"
   ]
  },
  {
   "cell_type": "code",
   "execution_count": 52,
   "id": "9ffe1424",
   "metadata": {},
   "outputs": [
    {
     "name": "stdout",
     "output_type": "stream",
     "text": [
      "Sample mean death for feb month: 9.653846153846153\n",
      "Sample mean death for mar month: 7.9655172413793105\n",
      "Alpha: 0.05 , n: 26\n",
      "T: 1.3952053035678755\n",
      "Accept the Null hypothesis\n"
     ]
    }
   ],
   "source": [
    "# Given, computing the sample mean of daily values from Feb’21 and \n",
    "# using that as a guess for mean of daily values for March’21\n",
    "\n",
    "t_death_MN = t_test(feb_month_data_mean_death, \n",
    "                    mar_month_data_mean_death, \n",
    "                    feb_month_data,\n",
    "                    'MN_total_death')\n",
    "print(\"Sample mean death for feb month:\", feb_month_data_mean_death)\n",
    "print(\"Sample mean death for mar month:\", mar_month_data_mean_death)\n",
    "print(\"Alpha:\", 0.05, \", n:\", 26)\n",
    "print(\"T:\", t_death_MN)\n",
    "\n",
    "\n",
    "if t_death_MN > 2.059539: # t_(n-1, alpha/2)\n",
    "    print(\"Reject the Null hypothesis\")\n",
    "else:\n",
    "    print(\"Accept the Null hypothesis\")"
   ]
  },
  {
   "cell_type": "markdown",
   "id": "2c295675",
   "metadata": {},
   "source": [
    "### T Test for MN covid cases\n",
    "\n",
    "#### the mean is asymptotically normal. t-test is applicable.\n",
    "\n",
    "\n",
    "#### Null hypothesis (H0): \n",
    "mean_of_feb_cases = mean_of_mar_cases\n",
    "\n",
    "#### Alternate hypothesis (H1): \n",
    "mean_of_feb_cases != mean_of_mar_cases"
   ]
  },
  {
   "cell_type": "code",
   "execution_count": 53,
   "id": "7f9db538",
   "metadata": {},
   "outputs": [
    {
     "name": "stdout",
     "output_type": "stream",
     "text": [
      "Sample mean cases for feb month: 828.8076923076923\n",
      "Sample mean cases for mar month: 1133.9655172413793\n",
      "Alpha: 0.05 , n: 26\n",
      "T: 7.188516389816137\n",
      "Reject the Null hypothesis\n"
     ]
    }
   ],
   "source": [
    "# Given, computing the sample mean of daily values from Feb’21 and \n",
    "# using that as a guess for mean of daily values for March’21\n",
    "\n",
    "t_cases_MN = t_test(feb_month_data_mean_cases, \n",
    "                    mar_month_data_mean_cases, \n",
    "                    feb_month_data,\n",
    "                    'MN_total_cases')\n",
    "print(\"Sample mean cases for feb month:\", feb_month_data_mean_cases)\n",
    "print(\"Sample mean cases for mar month:\", mar_month_data_mean_cases)\n",
    "print(\"Alpha:\", 0.05, \", n:\", 26)\n",
    "print(\"T:\", t_cases_MN)\n",
    "\n",
    "if t_cases_MN > 2.059539: # Z_(alpha/2)\n",
    "    print(\"Reject the Null hypothesis\")\n",
    "else:\n",
    "    print(\"Accept the Null hypothesis\")"
   ]
  },
  {
   "cell_type": "markdown",
   "id": "ee50b80f",
   "metadata": {},
   "source": [
    "### Wald's two sample test for MN covid death\n",
    "\n",
    "#### Given use MLE for Wald’s test as the estimator; assume for Wald’s estimator purposes that daily data is Poisson distributed. (MLE estimate for mean is same as sample mean). Here, we compare two samples feb data and march data. Using CLT, the mean is asymptotically normal as the number of samples is high. Hence, wald's test is applicable \n",
    "\n",
    "\n",
    "#### Null hypothesis (H0): \n",
    "mean_of_feb_death = mean_of_mar_death\n",
    "\n",
    "#### Alternate hypothesis (H1): \n",
    "mean_of_feb_death != mean_of_mar_death"
   ]
  },
  {
   "cell_type": "code",
   "execution_count": 54,
   "id": "b3b3b05e",
   "metadata": {},
   "outputs": [],
   "source": [
    "def wald_two_sample_test(mean1, mean2, data1, data2):\n",
    "    denominator = np.sqrt(mean1/len(data1) + mean2/len(data2))\n",
    "    return np.abs(mean1 - mean2) / denominator"
   ]
  },
  {
   "cell_type": "code",
   "execution_count": 55,
   "id": "8b6c5dd0",
   "metadata": {},
   "outputs": [
    {
     "name": "stdout",
     "output_type": "stream",
     "text": [
      "Sample mean death for feb month: 9.653846153846153\n",
      "Sample mean death for mar month: 7.9655172413793105\n",
      "W: 2.1006286056628\n",
      "Reject the Null hypothesis\n"
     ]
    }
   ],
   "source": [
    "# Given, computing the sample mean of daily values from Feb’21 and \n",
    "# using that as a guess for mean of daily values for March’21\n",
    "\n",
    "wald_twosample_death_MN = wald_two_sample_test(feb_month_data_mean_death, \n",
    "                                               mar_month_data_mean_death, \n",
    "                                               feb_month_data,\n",
    "                                               mar_month_data)\n",
    "print(\"Sample mean death for feb month:\", feb_month_data_mean_death)\n",
    "print(\"Sample mean death for mar month:\", mar_month_data_mean_death)\n",
    "print(\"W:\", wald_twosample_death_MN)\n",
    "\n",
    "if wald_twosample_death_MN > 1.96: # Z_(alpha/2)\n",
    "    print(\"Reject the Null hypothesis\")\n",
    "else:\n",
    "    print(\"Accept the Null hypothesis\")"
   ]
  },
  {
   "cell_type": "markdown",
   "id": "63e4f02f",
   "metadata": {},
   "source": [
    "Wald's statistic is greater than Z_(alpha/2), so we reject the null hypothesis"
   ]
  },
  {
   "cell_type": "markdown",
   "id": "f34e4ed1",
   "metadata": {},
   "source": [
    "### Wald's two sample test for MN covid cases\n",
    "\n",
    "#### Given use MLE for Wald’s test as the estimator; assume for Wald’s estimator purposes that daily data is Poisson distributed. (MLE estimate for mean is same as sample mean). Here, we compare two samples feb data and march data. Using CLT, the mean is asymptotically normal as the number of samples is high. Hence, wald's test is applicable \n",
    "\n",
    "\n",
    "#### Null hypothesis (H0): \n",
    "mean_of_feb_cases = mean_of_mar_cases\n",
    "\n",
    "#### Alternate hypothesis (H1): \n",
    "mean_of_feb_cases != mean_of_mar_cases"
   ]
  },
  {
   "cell_type": "code",
   "execution_count": 56,
   "id": "8c3f5d39",
   "metadata": {},
   "outputs": [
    {
     "name": "stdout",
     "output_type": "stream",
     "text": [
      "Sample mean cases for feb month: 828.8076923076923\n",
      "Sample mean cases for mar month: 1133.9655172413793\n",
      "W: 36.22080596026721\n",
      "Reject the Null hypothesis\n"
     ]
    }
   ],
   "source": [
    "# Given, computing the sample mean of daily values from Feb’21 and \n",
    "# using that as a guess for mean of daily values for March’21\n",
    "\n",
    "wald_twosample_cases_MN = wald_two_sample_test(feb_month_data_mean_cases, \n",
    "                                               mar_month_data_mean_cases, \n",
    "                                               feb_month_data,\n",
    "                                               mar_month_data)\n",
    "print(\"Sample mean cases for feb month:\", feb_month_data_mean_cases)\n",
    "print(\"Sample mean cases for mar month:\", mar_month_data_mean_cases)\n",
    "print(\"W:\", wald_twosample_cases_MN)\n",
    "\n",
    "if wald_twosample_cases_MN > 1.96: # Z_(alpha/2)\n",
    "    print(\"Reject the Null hypothesis\")\n",
    "else:\n",
    "    print(\"Accept the Null hypothesis\")"
   ]
  },
  {
   "cell_type": "markdown",
   "id": "60b76a0d",
   "metadata": {},
   "source": [
    "Wald's statistic is greater than Z_(alpha/2), so we reject the null hypothesis"
   ]
  },
  {
   "cell_type": "markdown",
   "id": "a89bd064",
   "metadata": {},
   "source": [
    "### Unpaired two sample T Test for MN covid death\n",
    "\n",
    "#### Here, we compare two samples feb data and march data. the mean is asymptotically normal. t-test is applicable.\n",
    "\n",
    "#### Null hypothesis (H0): \n",
    "mean_of_feb_death = mean_of_mar_death\n",
    "\n",
    "#### Alternate hypothesis (H1): \n",
    "mean_of_feb_death != mean_of_mar_death"
   ]
  },
  {
   "cell_type": "code",
   "execution_count": 57,
   "id": "4cec48e8",
   "metadata": {},
   "outputs": [],
   "source": [
    "def upaired_t_test(mean1, mean2, data1, data2, column):\n",
    "    \n",
    "    uncorrected_sample_std1 = np.sum(np.square(data1[column] - mean1)) / len(data1)\n",
    "    uncorrected_sample_std2 = np.sum(np.square(data2[column] - mean2)) / len(data2)\n",
    "    return np.abs(mean1 - mean2) / np.sqrt(uncorrected_sample_std1/len(data1) + uncorrected_sample_std2/len(data2))"
   ]
  },
  {
   "cell_type": "code",
   "execution_count": 58,
   "id": "80ab45a3",
   "metadata": {},
   "outputs": [
    {
     "name": "stdout",
     "output_type": "stream",
     "text": [
      "Sample mean death for feb month: 9.653846153846153\n",
      "Sample mean death for mar month: 7.9655172413793105\n",
      "Alpha: 0.05 , n+m-2: 53\n",
      "T: 1.0437534491381708\n",
      "Accept the Null hypothesis\n"
     ]
    }
   ],
   "source": [
    "# Given, computing the sample mean of daily values from Feb’21 and \n",
    "# using that as a guess for mean of daily values for March’21\n",
    "\n",
    "unpaired_t_death_MN = upaired_t_test(feb_month_data_mean_death, \n",
    "                                     mar_month_data_mean_death, \n",
    "                                     feb_month_data,\n",
    "                                     mar_month_data,\n",
    "                                     'MN_total_death')\n",
    "\n",
    "print(\"Sample mean death for feb month:\", feb_month_data_mean_death)\n",
    "print(\"Sample mean death for mar month:\", mar_month_data_mean_death)\n",
    "print(\"Alpha:\", 0.05, \", n+m-2:\", 26 -1 + 29 - 1)\n",
    "print(\"T:\", unpaired_t_death_MN)\n",
    "\n",
    "\n",
    "if unpaired_t_death_MN > 2.005746: # t_(n-1, alpha/2)\n",
    "    print(\"Reject the Null hypothesis\")\n",
    "else:\n",
    "    print(\"Accept the Null hypothesis\")"
   ]
  },
  {
   "cell_type": "markdown",
   "id": "a969fc67",
   "metadata": {},
   "source": [
    "### Unpaired two sample T Test for MN covid cases\n",
    "\n",
    "#### Here, we compare two samples feb data and march data. the mean is asymptotically normal. t-test is applicable.\n",
    "\n",
    "#### Null hypothesis (H0): \n",
    "mean_of_feb_cases = mean_of_mar_cases\n",
    "\n",
    "#### Alternate hypothesis (H1): \n",
    "mean_of_feb_cases != mean_of_mar_cases"
   ]
  },
  {
   "cell_type": "code",
   "execution_count": 59,
   "id": "b6e41191",
   "metadata": {},
   "outputs": [
    {
     "name": "stdout",
     "output_type": "stream",
     "text": [
      "Sample mean cases for feb month: 828.8076923076923\n",
      "Sample mean cases for mar month: 1133.9655172413793\n",
      "Alpha: 0.05 , n+m-2: 53\n",
      "T: 3.9462919788862987\n",
      "Reject the Null hypothesis\n"
     ]
    }
   ],
   "source": [
    "# Given, computing the sample mean of daily values from Feb’21 and \n",
    "# using that as a guess for mean of daily values for March’21\n",
    "\n",
    "unpaired_t_cases_MN = upaired_t_test(feb_month_data_mean_cases, \n",
    "                                     mar_month_data_mean_cases, \n",
    "                                     feb_month_data,\n",
    "                                     mar_month_data,\n",
    "                                     'MN_total_cases')\n",
    "\n",
    "print(\"Sample mean cases for feb month:\", feb_month_data_mean_cases)\n",
    "print(\"Sample mean cases for mar month:\", mar_month_data_mean_cases)\n",
    "print(\"Alpha:\", 0.05, \", n+m-2:\", 26 -1 + 29 - 1)\n",
    "print(\"T:\", unpaired_t_cases_MN)\n",
    "\n",
    "\n",
    "if unpaired_t_cases_MN > 2.005746: # t_(n+m-2, alpha/2)\n",
    "    print(\"Reject the Null hypothesis\")\n",
    "else:\n",
    "    print(\"Accept the Null hypothesis\")"
   ]
  },
  {
   "cell_type": "code",
   "execution_count": null,
   "id": "b3797230",
   "metadata": {},
   "outputs": [],
   "source": []
  }
 ],
 "metadata": {
  "kernelspec": {
   "display_name": "Python 3 (ipykernel)",
   "language": "python",
   "name": "python3"
  },
  "language_info": {
   "codemirror_mode": {
    "name": "ipython",
    "version": 3
   },
   "file_extension": ".py",
   "mimetype": "text/x-python",
   "name": "python",
   "nbconvert_exporter": "python",
   "pygments_lexer": "ipython3",
   "version": "3.8.8"
  }
 },
 "nbformat": 4,
 "nbformat_minor": 5
}
