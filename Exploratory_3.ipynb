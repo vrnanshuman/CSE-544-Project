{
  "nbformat": 4,
  "nbformat_minor": 0,
  "metadata": {
    "colab": {
      "name": "Exploratory_3.ipynb",
      "provenance": []
    },
    "kernelspec": {
      "name": "python3",
      "display_name": "Python 3"
    },
    "language_info": {
      "name": "python"
    }
  },
  "cells": [
    {
      "cell_type": "code",
      "execution_count": 1,
      "metadata": {
        "colab": {
          "base_uri": "https://localhost:8080/"
        },
        "id": "C9M2b5lo-WXy",
        "outputId": "c0ea3c15-b1c4-441d-a086-0b697491e8d4"
      },
      "outputs": [
        {
          "output_type": "stream",
          "name": "stdout",
          "text": [
            "Drive already mounted at /content/gdrive; to attempt to forcibly remount, call drive.mount(\"/content/gdrive\", force_remount=True).\n"
          ]
        }
      ],
      "source": [
        "from google.colab import drive\n",
        "drive.mount('/content/gdrive')"
      ]
    },
    {
      "cell_type": "code",
      "source": [
        "%cd '/content/gdrive/MyDrive/Prob_Stats_for_Data_Science/ProbStats Project/'"
      ],
      "metadata": {
        "colab": {
          "base_uri": "https://localhost:8080/"
        },
        "id": "6fI8r6Vg-b4w",
        "outputId": "353c331e-7cbe-4a1b-eb34-a707f1f480c6"
      },
      "execution_count": 2,
      "outputs": [
        {
          "output_type": "stream",
          "name": "stdout",
          "text": [
            "/content/gdrive/MyDrive/Prob_Stats_for_Data_Science/ProbStats Project\n"
          ]
        }
      ]
    },
    {
      "cell_type": "code",
      "source": [
        "# Import libraries\n",
        "\n",
        "import pandas as pd\n",
        "import numpy as np\n",
        "import matplotlib.pyplot as plt\n",
        "import seaborn as sns"
      ],
      "metadata": {
        "id": "VNpoaUkW-qb0"
      },
      "execution_count": 3,
      "outputs": []
    },
    {
      "cell_type": "code",
      "source": [
        "vaccine_travel = pd.read_csv('merged_clean_passenger_travel_data.csv')\n",
        "vaccine_travel"
      ],
      "metadata": {
        "colab": {
          "base_uri": "https://localhost:8080/",
          "height": 424
        },
        "id": "n92c7pYsAQSC",
        "outputId": "fff3980a-9d05-4aab-d03a-ac3e7ac0d5ee"
      },
      "execution_count": 4,
      "outputs": [
        {
          "output_type": "execute_result",
          "data": {
            "text/plain": [
              "           Date  total_cases  total_death  Distributed  travel_count\n",
              "0    2020-12-13     181595.0       2046.0        27300      752451.0\n",
              "1    2020-12-14     198278.0       2017.0       937950      552024.0\n",
              "2    2020-12-15     200653.0       2765.0      1951950      641966.0\n",
              "3    2020-12-16     241831.0       3395.0       395850      846934.0\n",
              "4    2020-12-17     247196.0       3347.0      2382900     1066747.0\n",
              "..          ...          ...          ...          ...           ...\n",
              "511  2022-05-09     109390.0        168.0         1200     2231804.0\n",
              "512  2022-05-10      98285.0        365.0      1217980     1900738.0\n",
              "513  2022-05-11     146393.0        553.0      1383400     2025161.0\n",
              "514  2022-05-12     108994.0        257.0      2598300     2327671.0\n",
              "515  2022-05-13     105049.0        430.0      2494400     2352035.0\n",
              "\n",
              "[516 rows x 5 columns]"
            ],
            "text/html": [
              "\n",
              "  <div id=\"df-003c28d1-13c1-4556-857f-8e8e3c3b8c4a\">\n",
              "    <div class=\"colab-df-container\">\n",
              "      <div>\n",
              "<style scoped>\n",
              "    .dataframe tbody tr th:only-of-type {\n",
              "        vertical-align: middle;\n",
              "    }\n",
              "\n",
              "    .dataframe tbody tr th {\n",
              "        vertical-align: top;\n",
              "    }\n",
              "\n",
              "    .dataframe thead th {\n",
              "        text-align: right;\n",
              "    }\n",
              "</style>\n",
              "<table border=\"1\" class=\"dataframe\">\n",
              "  <thead>\n",
              "    <tr style=\"text-align: right;\">\n",
              "      <th></th>\n",
              "      <th>Date</th>\n",
              "      <th>total_cases</th>\n",
              "      <th>total_death</th>\n",
              "      <th>Distributed</th>\n",
              "      <th>travel_count</th>\n",
              "    </tr>\n",
              "  </thead>\n",
              "  <tbody>\n",
              "    <tr>\n",
              "      <th>0</th>\n",
              "      <td>2020-12-13</td>\n",
              "      <td>181595.0</td>\n",
              "      <td>2046.0</td>\n",
              "      <td>27300</td>\n",
              "      <td>752451.0</td>\n",
              "    </tr>\n",
              "    <tr>\n",
              "      <th>1</th>\n",
              "      <td>2020-12-14</td>\n",
              "      <td>198278.0</td>\n",
              "      <td>2017.0</td>\n",
              "      <td>937950</td>\n",
              "      <td>552024.0</td>\n",
              "    </tr>\n",
              "    <tr>\n",
              "      <th>2</th>\n",
              "      <td>2020-12-15</td>\n",
              "      <td>200653.0</td>\n",
              "      <td>2765.0</td>\n",
              "      <td>1951950</td>\n",
              "      <td>641966.0</td>\n",
              "    </tr>\n",
              "    <tr>\n",
              "      <th>3</th>\n",
              "      <td>2020-12-16</td>\n",
              "      <td>241831.0</td>\n",
              "      <td>3395.0</td>\n",
              "      <td>395850</td>\n",
              "      <td>846934.0</td>\n",
              "    </tr>\n",
              "    <tr>\n",
              "      <th>4</th>\n",
              "      <td>2020-12-17</td>\n",
              "      <td>247196.0</td>\n",
              "      <td>3347.0</td>\n",
              "      <td>2382900</td>\n",
              "      <td>1066747.0</td>\n",
              "    </tr>\n",
              "    <tr>\n",
              "      <th>...</th>\n",
              "      <td>...</td>\n",
              "      <td>...</td>\n",
              "      <td>...</td>\n",
              "      <td>...</td>\n",
              "      <td>...</td>\n",
              "    </tr>\n",
              "    <tr>\n",
              "      <th>511</th>\n",
              "      <td>2022-05-09</td>\n",
              "      <td>109390.0</td>\n",
              "      <td>168.0</td>\n",
              "      <td>1200</td>\n",
              "      <td>2231804.0</td>\n",
              "    </tr>\n",
              "    <tr>\n",
              "      <th>512</th>\n",
              "      <td>2022-05-10</td>\n",
              "      <td>98285.0</td>\n",
              "      <td>365.0</td>\n",
              "      <td>1217980</td>\n",
              "      <td>1900738.0</td>\n",
              "    </tr>\n",
              "    <tr>\n",
              "      <th>513</th>\n",
              "      <td>2022-05-11</td>\n",
              "      <td>146393.0</td>\n",
              "      <td>553.0</td>\n",
              "      <td>1383400</td>\n",
              "      <td>2025161.0</td>\n",
              "    </tr>\n",
              "    <tr>\n",
              "      <th>514</th>\n",
              "      <td>2022-05-12</td>\n",
              "      <td>108994.0</td>\n",
              "      <td>257.0</td>\n",
              "      <td>2598300</td>\n",
              "      <td>2327671.0</td>\n",
              "    </tr>\n",
              "    <tr>\n",
              "      <th>515</th>\n",
              "      <td>2022-05-13</td>\n",
              "      <td>105049.0</td>\n",
              "      <td>430.0</td>\n",
              "      <td>2494400</td>\n",
              "      <td>2352035.0</td>\n",
              "    </tr>\n",
              "  </tbody>\n",
              "</table>\n",
              "<p>516 rows × 5 columns</p>\n",
              "</div>\n",
              "      <button class=\"colab-df-convert\" onclick=\"convertToInteractive('df-003c28d1-13c1-4556-857f-8e8e3c3b8c4a')\"\n",
              "              title=\"Convert this dataframe to an interactive table.\"\n",
              "              style=\"display:none;\">\n",
              "        \n",
              "  <svg xmlns=\"http://www.w3.org/2000/svg\" height=\"24px\"viewBox=\"0 0 24 24\"\n",
              "       width=\"24px\">\n",
              "    <path d=\"M0 0h24v24H0V0z\" fill=\"none\"/>\n",
              "    <path d=\"M18.56 5.44l.94 2.06.94-2.06 2.06-.94-2.06-.94-.94-2.06-.94 2.06-2.06.94zm-11 1L8.5 8.5l.94-2.06 2.06-.94-2.06-.94L8.5 2.5l-.94 2.06-2.06.94zm10 10l.94 2.06.94-2.06 2.06-.94-2.06-.94-.94-2.06-.94 2.06-2.06.94z\"/><path d=\"M17.41 7.96l-1.37-1.37c-.4-.4-.92-.59-1.43-.59-.52 0-1.04.2-1.43.59L10.3 9.45l-7.72 7.72c-.78.78-.78 2.05 0 2.83L4 21.41c.39.39.9.59 1.41.59.51 0 1.02-.2 1.41-.59l7.78-7.78 2.81-2.81c.8-.78.8-2.07 0-2.86zM5.41 20L4 18.59l7.72-7.72 1.47 1.35L5.41 20z\"/>\n",
              "  </svg>\n",
              "      </button>\n",
              "      \n",
              "  <style>\n",
              "    .colab-df-container {\n",
              "      display:flex;\n",
              "      flex-wrap:wrap;\n",
              "      gap: 12px;\n",
              "    }\n",
              "\n",
              "    .colab-df-convert {\n",
              "      background-color: #E8F0FE;\n",
              "      border: none;\n",
              "      border-radius: 50%;\n",
              "      cursor: pointer;\n",
              "      display: none;\n",
              "      fill: #1967D2;\n",
              "      height: 32px;\n",
              "      padding: 0 0 0 0;\n",
              "      width: 32px;\n",
              "    }\n",
              "\n",
              "    .colab-df-convert:hover {\n",
              "      background-color: #E2EBFA;\n",
              "      box-shadow: 0px 1px 2px rgba(60, 64, 67, 0.3), 0px 1px 3px 1px rgba(60, 64, 67, 0.15);\n",
              "      fill: #174EA6;\n",
              "    }\n",
              "\n",
              "    [theme=dark] .colab-df-convert {\n",
              "      background-color: #3B4455;\n",
              "      fill: #D2E3FC;\n",
              "    }\n",
              "\n",
              "    [theme=dark] .colab-df-convert:hover {\n",
              "      background-color: #434B5C;\n",
              "      box-shadow: 0px 1px 3px 1px rgba(0, 0, 0, 0.15);\n",
              "      filter: drop-shadow(0px 1px 2px rgba(0, 0, 0, 0.3));\n",
              "      fill: #FFFFFF;\n",
              "    }\n",
              "  </style>\n",
              "\n",
              "      <script>\n",
              "        const buttonEl =\n",
              "          document.querySelector('#df-003c28d1-13c1-4556-857f-8e8e3c3b8c4a button.colab-df-convert');\n",
              "        buttonEl.style.display =\n",
              "          google.colab.kernel.accessAllowed ? 'block' : 'none';\n",
              "\n",
              "        async function convertToInteractive(key) {\n",
              "          const element = document.querySelector('#df-003c28d1-13c1-4556-857f-8e8e3c3b8c4a');\n",
              "          const dataTable =\n",
              "            await google.colab.kernel.invokeFunction('convertToInteractive',\n",
              "                                                     [key], {});\n",
              "          if (!dataTable) return;\n",
              "\n",
              "          const docLinkHtml = 'Like what you see? Visit the ' +\n",
              "            '<a target=\"_blank\" href=https://colab.research.google.com/notebooks/data_table.ipynb>data table notebook</a>'\n",
              "            + ' to learn more about interactive tables.';\n",
              "          element.innerHTML = '';\n",
              "          dataTable['output_type'] = 'display_data';\n",
              "          await google.colab.output.renderOutput(dataTable, element);\n",
              "          const docLink = document.createElement('div');\n",
              "          docLink.innerHTML = docLinkHtml;\n",
              "          element.appendChild(docLink);\n",
              "        }\n",
              "      </script>\n",
              "    </div>\n",
              "  </div>\n",
              "  "
            ]
          },
          "metadata": {},
          "execution_count": 4
        }
      ]
    },
    {
      "cell_type": "code",
      "source": [
        "vaccine_travel['Cumm_Distributed'] = vaccine_travel['Distributed'].cumsum()\n",
        "vaccine_travel"
      ],
      "metadata": {
        "colab": {
          "base_uri": "https://localhost:8080/",
          "height": 424
        },
        "id": "5yFy02HRENDG",
        "outputId": "35466b51-3e64-4bd9-f733-fba4ef26e6b7"
      },
      "execution_count": 5,
      "outputs": [
        {
          "output_type": "execute_result",
          "data": {
            "text/plain": [
              "           Date  total_cases  total_death  Distributed  travel_count  \\\n",
              "0    2020-12-13     181595.0       2046.0        27300      752451.0   \n",
              "1    2020-12-14     198278.0       2017.0       937950      552024.0   \n",
              "2    2020-12-15     200653.0       2765.0      1951950      641966.0   \n",
              "3    2020-12-16     241831.0       3395.0       395850      846934.0   \n",
              "4    2020-12-17     247196.0       3347.0      2382900     1066747.0   \n",
              "..          ...          ...          ...          ...           ...   \n",
              "511  2022-05-09     109390.0        168.0         1200     2231804.0   \n",
              "512  2022-05-10      98285.0        365.0      1217980     1900738.0   \n",
              "513  2022-05-11     146393.0        553.0      1383400     2025161.0   \n",
              "514  2022-05-12     108994.0        257.0      2598300     2327671.0   \n",
              "515  2022-05-13     105049.0        430.0      2494400     2352035.0   \n",
              "\n",
              "     Cumm_Distributed  \n",
              "0               27300  \n",
              "1              965250  \n",
              "2             2917200  \n",
              "3             3313050  \n",
              "4             5695950  \n",
              "..                ...  \n",
              "511        1588556125  \n",
              "512        1589774105  \n",
              "513        1591157505  \n",
              "514        1593755805  \n",
              "515        1596250205  \n",
              "\n",
              "[516 rows x 6 columns]"
            ],
            "text/html": [
              "\n",
              "  <div id=\"df-3de7fad2-a716-4b64-9f60-5a68d80531d2\">\n",
              "    <div class=\"colab-df-container\">\n",
              "      <div>\n",
              "<style scoped>\n",
              "    .dataframe tbody tr th:only-of-type {\n",
              "        vertical-align: middle;\n",
              "    }\n",
              "\n",
              "    .dataframe tbody tr th {\n",
              "        vertical-align: top;\n",
              "    }\n",
              "\n",
              "    .dataframe thead th {\n",
              "        text-align: right;\n",
              "    }\n",
              "</style>\n",
              "<table border=\"1\" class=\"dataframe\">\n",
              "  <thead>\n",
              "    <tr style=\"text-align: right;\">\n",
              "      <th></th>\n",
              "      <th>Date</th>\n",
              "      <th>total_cases</th>\n",
              "      <th>total_death</th>\n",
              "      <th>Distributed</th>\n",
              "      <th>travel_count</th>\n",
              "      <th>Cumm_Distributed</th>\n",
              "    </tr>\n",
              "  </thead>\n",
              "  <tbody>\n",
              "    <tr>\n",
              "      <th>0</th>\n",
              "      <td>2020-12-13</td>\n",
              "      <td>181595.0</td>\n",
              "      <td>2046.0</td>\n",
              "      <td>27300</td>\n",
              "      <td>752451.0</td>\n",
              "      <td>27300</td>\n",
              "    </tr>\n",
              "    <tr>\n",
              "      <th>1</th>\n",
              "      <td>2020-12-14</td>\n",
              "      <td>198278.0</td>\n",
              "      <td>2017.0</td>\n",
              "      <td>937950</td>\n",
              "      <td>552024.0</td>\n",
              "      <td>965250</td>\n",
              "    </tr>\n",
              "    <tr>\n",
              "      <th>2</th>\n",
              "      <td>2020-12-15</td>\n",
              "      <td>200653.0</td>\n",
              "      <td>2765.0</td>\n",
              "      <td>1951950</td>\n",
              "      <td>641966.0</td>\n",
              "      <td>2917200</td>\n",
              "    </tr>\n",
              "    <tr>\n",
              "      <th>3</th>\n",
              "      <td>2020-12-16</td>\n",
              "      <td>241831.0</td>\n",
              "      <td>3395.0</td>\n",
              "      <td>395850</td>\n",
              "      <td>846934.0</td>\n",
              "      <td>3313050</td>\n",
              "    </tr>\n",
              "    <tr>\n",
              "      <th>4</th>\n",
              "      <td>2020-12-17</td>\n",
              "      <td>247196.0</td>\n",
              "      <td>3347.0</td>\n",
              "      <td>2382900</td>\n",
              "      <td>1066747.0</td>\n",
              "      <td>5695950</td>\n",
              "    </tr>\n",
              "    <tr>\n",
              "      <th>...</th>\n",
              "      <td>...</td>\n",
              "      <td>...</td>\n",
              "      <td>...</td>\n",
              "      <td>...</td>\n",
              "      <td>...</td>\n",
              "      <td>...</td>\n",
              "    </tr>\n",
              "    <tr>\n",
              "      <th>511</th>\n",
              "      <td>2022-05-09</td>\n",
              "      <td>109390.0</td>\n",
              "      <td>168.0</td>\n",
              "      <td>1200</td>\n",
              "      <td>2231804.0</td>\n",
              "      <td>1588556125</td>\n",
              "    </tr>\n",
              "    <tr>\n",
              "      <th>512</th>\n",
              "      <td>2022-05-10</td>\n",
              "      <td>98285.0</td>\n",
              "      <td>365.0</td>\n",
              "      <td>1217980</td>\n",
              "      <td>1900738.0</td>\n",
              "      <td>1589774105</td>\n",
              "    </tr>\n",
              "    <tr>\n",
              "      <th>513</th>\n",
              "      <td>2022-05-11</td>\n",
              "      <td>146393.0</td>\n",
              "      <td>553.0</td>\n",
              "      <td>1383400</td>\n",
              "      <td>2025161.0</td>\n",
              "      <td>1591157505</td>\n",
              "    </tr>\n",
              "    <tr>\n",
              "      <th>514</th>\n",
              "      <td>2022-05-12</td>\n",
              "      <td>108994.0</td>\n",
              "      <td>257.0</td>\n",
              "      <td>2598300</td>\n",
              "      <td>2327671.0</td>\n",
              "      <td>1593755805</td>\n",
              "    </tr>\n",
              "    <tr>\n",
              "      <th>515</th>\n",
              "      <td>2022-05-13</td>\n",
              "      <td>105049.0</td>\n",
              "      <td>430.0</td>\n",
              "      <td>2494400</td>\n",
              "      <td>2352035.0</td>\n",
              "      <td>1596250205</td>\n",
              "    </tr>\n",
              "  </tbody>\n",
              "</table>\n",
              "<p>516 rows × 6 columns</p>\n",
              "</div>\n",
              "      <button class=\"colab-df-convert\" onclick=\"convertToInteractive('df-3de7fad2-a716-4b64-9f60-5a68d80531d2')\"\n",
              "              title=\"Convert this dataframe to an interactive table.\"\n",
              "              style=\"display:none;\">\n",
              "        \n",
              "  <svg xmlns=\"http://www.w3.org/2000/svg\" height=\"24px\"viewBox=\"0 0 24 24\"\n",
              "       width=\"24px\">\n",
              "    <path d=\"M0 0h24v24H0V0z\" fill=\"none\"/>\n",
              "    <path d=\"M18.56 5.44l.94 2.06.94-2.06 2.06-.94-2.06-.94-.94-2.06-.94 2.06-2.06.94zm-11 1L8.5 8.5l.94-2.06 2.06-.94-2.06-.94L8.5 2.5l-.94 2.06-2.06.94zm10 10l.94 2.06.94-2.06 2.06-.94-2.06-.94-.94-2.06-.94 2.06-2.06.94z\"/><path d=\"M17.41 7.96l-1.37-1.37c-.4-.4-.92-.59-1.43-.59-.52 0-1.04.2-1.43.59L10.3 9.45l-7.72 7.72c-.78.78-.78 2.05 0 2.83L4 21.41c.39.39.9.59 1.41.59.51 0 1.02-.2 1.41-.59l7.78-7.78 2.81-2.81c.8-.78.8-2.07 0-2.86zM5.41 20L4 18.59l7.72-7.72 1.47 1.35L5.41 20z\"/>\n",
              "  </svg>\n",
              "      </button>\n",
              "      \n",
              "  <style>\n",
              "    .colab-df-container {\n",
              "      display:flex;\n",
              "      flex-wrap:wrap;\n",
              "      gap: 12px;\n",
              "    }\n",
              "\n",
              "    .colab-df-convert {\n",
              "      background-color: #E8F0FE;\n",
              "      border: none;\n",
              "      border-radius: 50%;\n",
              "      cursor: pointer;\n",
              "      display: none;\n",
              "      fill: #1967D2;\n",
              "      height: 32px;\n",
              "      padding: 0 0 0 0;\n",
              "      width: 32px;\n",
              "    }\n",
              "\n",
              "    .colab-df-convert:hover {\n",
              "      background-color: #E2EBFA;\n",
              "      box-shadow: 0px 1px 2px rgba(60, 64, 67, 0.3), 0px 1px 3px 1px rgba(60, 64, 67, 0.15);\n",
              "      fill: #174EA6;\n",
              "    }\n",
              "\n",
              "    [theme=dark] .colab-df-convert {\n",
              "      background-color: #3B4455;\n",
              "      fill: #D2E3FC;\n",
              "    }\n",
              "\n",
              "    [theme=dark] .colab-df-convert:hover {\n",
              "      background-color: #434B5C;\n",
              "      box-shadow: 0px 1px 3px 1px rgba(0, 0, 0, 0.15);\n",
              "      filter: drop-shadow(0px 1px 2px rgba(0, 0, 0, 0.3));\n",
              "      fill: #FFFFFF;\n",
              "    }\n",
              "  </style>\n",
              "\n",
              "      <script>\n",
              "        const buttonEl =\n",
              "          document.querySelector('#df-3de7fad2-a716-4b64-9f60-5a68d80531d2 button.colab-df-convert');\n",
              "        buttonEl.style.display =\n",
              "          google.colab.kernel.accessAllowed ? 'block' : 'none';\n",
              "\n",
              "        async function convertToInteractive(key) {\n",
              "          const element = document.querySelector('#df-3de7fad2-a716-4b64-9f60-5a68d80531d2');\n",
              "          const dataTable =\n",
              "            await google.colab.kernel.invokeFunction('convertToInteractive',\n",
              "                                                     [key], {});\n",
              "          if (!dataTable) return;\n",
              "\n",
              "          const docLinkHtml = 'Like what you see? Visit the ' +\n",
              "            '<a target=\"_blank\" href=https://colab.research.google.com/notebooks/data_table.ipynb>data table notebook</a>'\n",
              "            + ' to learn more about interactive tables.';\n",
              "          element.innerHTML = '';\n",
              "          dataTable['output_type'] = 'display_data';\n",
              "          await google.colab.output.renderOutput(dataTable, element);\n",
              "          const docLink = document.createElement('div');\n",
              "          docLink.innerHTML = docLinkHtml;\n",
              "          element.appendChild(docLink);\n",
              "        }\n",
              "      </script>\n",
              "    </div>\n",
              "  </div>\n",
              "  "
            ]
          },
          "metadata": {},
          "execution_count": 5
        }
      ]
    },
    {
      "cell_type": "code",
      "source": [
        "vaccine_data_normalized = (vaccine_travel['Cumm_Distributed'] - np.min(vaccine_travel['Cumm_Distributed'])) / ( np.max(vaccine_travel['Cumm_Distributed']) - np.min(vaccine_travel['Cumm_Distributed']))\n",
        "travel_data_normalized = (vaccine_travel['travel_count'] - np.min(vaccine_travel['travel_count'])) / ( np.max(vaccine_travel['travel_count']) - np.min(vaccine_travel['travel_count']))\n",
        "vaccine_data_normalized"
      ],
      "metadata": {
        "colab": {
          "base_uri": "https://localhost:8080/"
        },
        "id": "0NHjyWh4Ada7",
        "outputId": "864c58e4-e99a-46fe-fd60-7d80654557ed"
      },
      "execution_count": 6,
      "outputs": [
        {
          "output_type": "execute_result",
          "data": {
            "text/plain": [
              "0      0.000000\n",
              "1      0.000588\n",
              "2      0.001810\n",
              "3      0.002058\n",
              "4      0.003551\n",
              "         ...   \n",
              "511    0.995180\n",
              "512    0.995943\n",
              "513    0.996810\n",
              "514    0.998437\n",
              "515    1.000000\n",
              "Name: Cumm_Distributed, Length: 516, dtype: float64"
            ]
          },
          "metadata": {},
          "execution_count": 6
        }
      ]
    },
    {
      "cell_type": "code",
      "source": [
        "plt.plot(vaccine_travel['Date'], vaccine_data_normalized, label = 'Vaccine Data normalized')\n",
        "plt.plot(vaccine_travel['Date'], travel_data_normalized, label = 'Travel Data normalized')\n",
        "plt.legend()\n",
        "plt.show()"
      ],
      "metadata": {
        "colab": {
          "base_uri": "https://localhost:8080/",
          "height": 265
        },
        "id": "YNV8dUYLTYsv",
        "outputId": "904b856f-9eaa-4d70-8170-11cbd9e7fa53"
      },
      "execution_count": 7,
      "outputs": [
        {
          "output_type": "display_data",
          "data": {
            "text/plain": [
              "<Figure size 432x288 with 1 Axes>"
            ],
            "image/png": "[encoded data removed]"
          },
          "metadata": {
            "needs_background": "light"
          }
        }
      ]
    },
    {
      "cell_type": "markdown",
      "source": [
        "**<h2>Wald's 2-Sample Test </h2>**\n",
        "\n",
        "\n",
        "Null Hypothesis: delta=0 (Traveling of passengers through flight is proportional to the number of vaccination)\n",
        "\n",
        "Alternate Hypothesis: delta!=0 (Traveling of passengers through flight is not proportional to the number of vaccination)\n",
        "\n",
        "Walds test is performed on the normalized data of number of passengers as well as number of vaccinations"
      ],
      "metadata": {
        "id": "olxq3DjpL7F2"
      }
    },
    {
      "cell_type": "code",
      "source": [
        "mean_vaccine = np.mean(vaccine_data_normalized)\n",
        "mean_travel = np.mean(travel_data_normalized)"
      ],
      "metadata": {
        "id": "eYnZIJkNF9KL"
      },
      "execution_count": 8,
      "outputs": []
    },
    {
      "cell_type": "code",
      "source": [
        "def Calculate_var(x, mean_x):\n",
        "  square_sum=0\n",
        "  for i in range(0, len(x)):\n",
        "    square_sum += (x[i] - mean_x)**2\n",
        "  return square_sum / len(x)"
      ],
      "metadata": {
        "id": "gVA1BbC2IJhj"
      },
      "execution_count": 9,
      "outputs": []
    },
    {
      "cell_type": "code",
      "source": [
        "delta = abs(mean_travel - mean_vaccine)\n",
        "se = np.sqrt((Calculate_var(vaccine_data_normalized, mean_vaccine) + Calculate_var(travel_data_normalized, mean_travel)))\n",
        "wald = abs(delta/se)\n",
        "wald"
      ],
      "metadata": {
        "colab": {
          "base_uri": "https://localhost:8080/"
        },
        "id": "oVWlRBT0GzCh",
        "outputId": "959d6166-0f27-4396-cb29-065ffbf422d4"
      },
      "execution_count": 10,
      "outputs": [
        {
          "output_type": "execute_result",
          "data": {
            "text/plain": [
              "0.025732354918676974"
            ]
          },
          "metadata": {},
          "execution_count": 10
        }
      ]
    },
    {
      "cell_type": "markdown",
      "source": [
        "**<h2> Result: </h2>**\n",
        "\n",
        "Walds statistic = 0.025732354918676974 which is less than 1.96 (taking alpha=0.05), hence we accept null hypothesis. \n",
        "\n",
        "Thus, number of passengers traveling through flight is proportional to the number of vaccinations.\n"
      ],
      "metadata": {
        "id": "MlJbNFwyM6Jg"
      }
    },
    {
      "cell_type": "code",
      "source": [
        ""
      ],
      "metadata": {
        "id": "gBI0ePEnG0O1"
      },
      "execution_count": null,
      "outputs": []
    }
  ]
}