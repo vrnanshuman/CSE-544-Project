{
  "nbformat": 4,
  "nbformat_minor": 0,
  "metadata": {
    "colab": {
      "name": "Q2(c).ipynb",
      "provenance": []
    },
    "kernelspec": {
      "name": "python3",
      "display_name": "Python 3"
    },
    "language_info": {
      "name": "python"
    }
  },
  "cells": [
    {
      "cell_type": "code",
      "execution_count": 92,
      "metadata": {
        "id": "IvYkhPQjZUss"
      },
      "outputs": [],
      "source": [
        "import pandas as pd\n",
        "import numpy as np\n",
        "from datetime import datetime\n",
        "from scipy.stats import gamma\n",
        "import matplotlib.pyplot as plt"
      ]
    },
    {
      "cell_type": "code",
      "source": [
        "%cd /content/drive/MyDrive/ProbStats Project"
      ],
      "metadata": {
        "colab": {
          "base_uri": "https://localhost:8080/"
        },
        "id": "S73993eMZqh8",
        "outputId": "4d0ee3bd-a714-4aff-9461-eff1fbf0115c"
      },
      "execution_count": 93,
      "outputs": [
        {
          "output_type": "stream",
          "name": "stdout",
          "text": [
            "/content/drive/.shortcut-targets-by-id/1kJWhxnlulamZ1DPy9UpGczKehz8k4kuH/ProbStats Project\n"
          ]
        }
      ]
    },
    {
      "cell_type": "code",
      "source": [
        "df = pd.read_csv('cleaned_covid_cases_and_death_data.csv')"
      ],
      "metadata": {
        "id": "ucz50Lc-Zv1_"
      },
      "execution_count": 94,
      "outputs": []
    },
    {
      "cell_type": "code",
      "source": [
        "df.head()"
      ],
      "metadata": {
        "colab": {
          "base_uri": "https://localhost:8080/",
          "height": 357
        },
        "id": "NuOLoOU-Zw65",
        "outputId": "0d6f79ea-4597-45f1-a038-ff99c90103cc"
      },
      "execution_count": 95,
      "outputs": [
        {
          "output_type": "execute_result",
          "data": {
            "text/plain": [
              "         date  MT_total_cases_cum  MT_total_death_cum  MT_total_cases  \\\n",
              "0  2020-01-22                   0                   0             0.0   \n",
              "1  2020-01-23                   0                   0             0.0   \n",
              "2  2020-01-24                   0                   0             0.0   \n",
              "3  2020-01-25                   0                   0             0.0   \n",
              "4  2020-01-26                   0                   0             0.0   \n",
              "\n",
              "   MT_total_death  MN_total_cases_cum  MN_total_death_cum  MN_total_cases  \\\n",
              "0             0.0                   0                   0             0.0   \n",
              "1             0.0                   0                   0             0.0   \n",
              "2             0.0                   0                   0             0.0   \n",
              "3             0.0                   0                   0             0.0   \n",
              "4             0.0                   0                   0             0.0   \n",
              "\n",
              "   MN_total_death  \n",
              "0             0.0  \n",
              "1             0.0  \n",
              "2             0.0  \n",
              "3             0.0  \n",
              "4             0.0  "
            ],
            "text/html": [
              "\n",
              "  <div id=\"df-f4fe41f1-4f39-46ee-83e1-044a06dd2f29\">\n",
              "    <div class=\"colab-df-container\">\n",
              "      <div>\n",
              "<style scoped>\n",
              "    .dataframe tbody tr th:only-of-type {\n",
              "        vertical-align: middle;\n",
              "    }\n",
              "\n",
              "    .dataframe tbody tr th {\n",
              "        vertical-align: top;\n",
              "    }\n",
              "\n",
              "    .dataframe thead th {\n",
              "        text-align: right;\n",
              "    }\n",
              "</style>\n",
              "<table border=\"1\" class=\"dataframe\">\n",
              "  <thead>\n",
              "    <tr style=\"text-align: right;\">\n",
              "      <th></th>\n",
              "      <th>date</th>\n",
              "      <th>MT_total_cases_cum</th>\n",
              "      <th>MT_total_death_cum</th>\n",
              "      <th>MT_total_cases</th>\n",
              "      <th>MT_total_death</th>\n",
              "      <th>MN_total_cases_cum</th>\n",
              "      <th>MN_total_death_cum</th>\n",
              "      <th>MN_total_cases</th>\n",
              "      <th>MN_total_death</th>\n",
              "    </tr>\n",
              "  </thead>\n",
              "  <tbody>\n",
              "    <tr>\n",
              "      <th>0</th>\n",
              "      <td>2020-01-22</td>\n",
              "      <td>0</td>\n",
              "      <td>0</td>\n",
              "      <td>0.0</td>\n",
              "      <td>0.0</td>\n",
              "      <td>0</td>\n",
              "      <td>0</td>\n",
              "      <td>0.0</td>\n",
              "      <td>0.0</td>\n",
              "    </tr>\n",
              "    <tr>\n",
              "      <th>1</th>\n",
              "      <td>2020-01-23</td>\n",
              "      <td>0</td>\n",
              "      <td>0</td>\n",
              "      <td>0.0</td>\n",
              "      <td>0.0</td>\n",
              "      <td>0</td>\n",
              "      <td>0</td>\n",
              "      <td>0.0</td>\n",
              "      <td>0.0</td>\n",
              "    </tr>\n",
              "    <tr>\n",
              "      <th>2</th>\n",
              "      <td>2020-01-24</td>\n",
              "      <td>0</td>\n",
              "      <td>0</td>\n",
              "      <td>0.0</td>\n",
              "      <td>0.0</td>\n",
              "      <td>0</td>\n",
              "      <td>0</td>\n",
              "      <td>0.0</td>\n",
              "      <td>0.0</td>\n",
              "    </tr>\n",
              "    <tr>\n",
              "      <th>3</th>\n",
              "      <td>2020-01-25</td>\n",
              "      <td>0</td>\n",
              "      <td>0</td>\n",
              "      <td>0.0</td>\n",
              "      <td>0.0</td>\n",
              "      <td>0</td>\n",
              "      <td>0</td>\n",
              "      <td>0.0</td>\n",
              "      <td>0.0</td>\n",
              "    </tr>\n",
              "    <tr>\n",
              "      <th>4</th>\n",
              "      <td>2020-01-26</td>\n",
              "      <td>0</td>\n",
              "      <td>0</td>\n",
              "      <td>0.0</td>\n",
              "      <td>0.0</td>\n",
              "      <td>0</td>\n",
              "      <td>0</td>\n",
              "      <td>0.0</td>\n",
              "      <td>0.0</td>\n",
              "    </tr>\n",
              "  </tbody>\n",
              "</table>\n",
              "</div>\n",
              "      <button class=\"colab-df-convert\" onclick=\"convertToInteractive('df-f4fe41f1-4f39-46ee-83e1-044a06dd2f29')\"\n",
              "              title=\"Convert this dataframe to an interactive table.\"\n",
              "              style=\"display:none;\">\n",
              "        \n",
              "  <svg xmlns=\"http://www.w3.org/2000/svg\" height=\"24px\"viewBox=\"0 0 24 24\"\n",
              "       width=\"24px\">\n",
              "    <path d=\"M0 0h24v24H0V0z\" fill=\"none\"/>\n",
              "    <path d=\"M18.56 5.44l.94 2.06.94-2.06 2.06-.94-2.06-.94-.94-2.06-.94 2.06-2.06.94zm-11 1L8.5 8.5l.94-2.06 2.06-.94-2.06-.94L8.5 2.5l-.94 2.06-2.06.94zm10 10l.94 2.06.94-2.06 2.06-.94-2.06-.94-.94-2.06-.94 2.06-2.06.94z\"/><path d=\"M17.41 7.96l-1.37-1.37c-.4-.4-.92-.59-1.43-.59-.52 0-1.04.2-1.43.59L10.3 9.45l-7.72 7.72c-.78.78-.78 2.05 0 2.83L4 21.41c.39.39.9.59 1.41.59.51 0 1.02-.2 1.41-.59l7.78-7.78 2.81-2.81c.8-.78.8-2.07 0-2.86zM5.41 20L4 18.59l7.72-7.72 1.47 1.35L5.41 20z\"/>\n",
              "  </svg>\n",
              "      </button>\n",
              "      \n",
              "  <style>\n",
              "    .colab-df-container {\n",
              "      display:flex;\n",
              "      flex-wrap:wrap;\n",
              "      gap: 12px;\n",
              "    }\n",
              "\n",
              "    .colab-df-convert {\n",
              "      background-color: #E8F0FE;\n",
              "      border: none;\n",
              "      border-radius: 50%;\n",
              "      cursor: pointer;\n",
              "      display: none;\n",
              "      fill: #1967D2;\n",
              "      height: 32px;\n",
              "      padding: 0 0 0 0;\n",
              "      width: 32px;\n",
              "    }\n",
              "\n",
              "    .colab-df-convert:hover {\n",
              "      background-color: #E2EBFA;\n",
              "      box-shadow: 0px 1px 2px rgba(60, 64, 67, 0.3), 0px 1px 3px 1px rgba(60, 64, 67, 0.15);\n",
              "      fill: #174EA6;\n",
              "    }\n",
              "\n",
              "    [theme=dark] .colab-df-convert {\n",
              "      background-color: #3B4455;\n",
              "      fill: #D2E3FC;\n",
              "    }\n",
              "\n",
              "    [theme=dark] .colab-df-convert:hover {\n",
              "      background-color: #434B5C;\n",
              "      box-shadow: 0px 1px 3px 1px rgba(0, 0, 0, 0.15);\n",
              "      filter: drop-shadow(0px 1px 2px rgba(0, 0, 0, 0.3));\n",
              "      fill: #FFFFFF;\n",
              "    }\n",
              "  </style>\n",
              "\n",
              "      <script>\n",
              "        const buttonEl =\n",
              "          document.querySelector('#df-f4fe41f1-4f39-46ee-83e1-044a06dd2f29 button.colab-df-convert');\n",
              "        buttonEl.style.display =\n",
              "          google.colab.kernel.accessAllowed ? 'block' : 'none';\n",
              "\n",
              "        async function convertToInteractive(key) {\n",
              "          const element = document.querySelector('#df-f4fe41f1-4f39-46ee-83e1-044a06dd2f29');\n",
              "          const dataTable =\n",
              "            await google.colab.kernel.invokeFunction('convertToInteractive',\n",
              "                                                     [key], {});\n",
              "          if (!dataTable) return;\n",
              "\n",
              "          const docLinkHtml = 'Like what you see? Visit the ' +\n",
              "            '<a target=\"_blank\" href=https://colab.research.google.com/notebooks/data_table.ipynb>data table notebook</a>'\n",
              "            + ' to learn more about interactive tables.';\n",
              "          element.innerHTML = '';\n",
              "          dataTable['output_type'] = 'display_data';\n",
              "          await google.colab.output.renderOutput(dataTable, element);\n",
              "          const docLink = document.createElement('div');\n",
              "          docLink.innerHTML = docLinkHtml;\n",
              "          element.appendChild(docLink);\n",
              "        }\n",
              "      </script>\n",
              "    </div>\n",
              "  </div>\n",
              "  "
            ]
          },
          "metadata": {},
          "execution_count": 95
        }
      ]
    },
    {
      "cell_type": "code",
      "source": [
        "df['daily_stats_death'] = df['MT_total_death']+df['MN_total_death']"
      ],
      "metadata": {
        "id": "oEnHI_KBG1oS"
      },
      "execution_count": 96,
      "outputs": []
    },
    {
      "cell_type": "code",
      "source": [
        "df['date'] = df['date'].apply(lambda x : datetime.strptime(x, \"%Y-%m-%d\"))"
      ],
      "metadata": {
        "id": "Mu99T8P_HKFW"
      },
      "execution_count": 97,
      "outputs": []
    },
    {
      "cell_type": "code",
      "source": [
        "total_deaths = [df[(df['date']>='2020-06-01') & (df['date']<='2020-06-28')]['daily_stats_death'], \n",
        "                df[(df['date']>='2020-06-29') & (df['date']<='2020-07-05')]['daily_stats_death'],\n",
        "                df[(df['date']>='2020-06-29') & (df['date']<='2020-07-12')]['daily_stats_death'],\n",
        "                df[(df['date']>='2020-06-29') & (df['date']<='2020-07-19')]['daily_stats_death'],\n",
        "                df[(df['date']>='2020-06-29') & (df['date']<='2020-07-26')]['daily_stats_death']]"
      ],
      "metadata": {
        "id": "TGDwuzitHDny"
      },
      "execution_count": 98,
      "outputs": []
    },
    {
      "cell_type": "code",
      "source": [
        "## Initial beta calculation for the prior\n",
        "lambda_mme = np.mean(total_deaths[0])\n",
        "# taking from lambda_mme\n",
        "beta = lambda_mme\n",
        "\n",
        "x = np.linspace(3, 10, 150) \n",
        "y=[]\n",
        "fig = plt.figure(figsize=(10,6))\n",
        "fig.suptitle('Posterior Distribution', fontsize=20)\n",
        "plt.xlabel('Lambda', fontsize=14)\n",
        "plt.ylabel('Confidence', fontsize=14)\n",
        "print(\"MAP values \")\n",
        "for i in range(len(total_deaths)-1):\n",
        "  # computing posterior for each week.\n",
        "  alpha = np.sum(total_deaths[i+1]) + 1\n",
        "  scale = 1.0/((i+1)*7 + 1.0/beta)\n",
        "  y.append(gamma.pdf(x, a=alpha, scale = scale ))\n",
        "  #print('MAP for week ',i+1,np.max(y[i]))\n",
        "  print(\"Week-\"+str(i+1),\"Lambda (X-Axis)\",x[np.argmax(y[i])],\"\\tConfidence(Y-axis)\",np.max(y[i]))\n",
        "  plt.plot(x, y[i], label=('Week '+str(i+1)))\n",
        "plt.legend()\n",
        "plt.show()"
      ],
      "metadata": {
        "colab": {
          "base_uri": "https://localhost:8080/",
          "height": 524
        },
        "id": "YHJ_8GgaHt2K",
        "outputId": "022aec95-250e-4042-ae63-60cb08ba6197"
      },
      "execution_count": 99,
      "outputs": [
        {
          "output_type": "stream",
          "name": "stdout",
          "text": [
            "MAP values \n",
            "Week-1 Lambda (X-Axis) 5.959731543624161 \tConfidence(Y-axis) 0.4345305575622842\n",
            "Week-2 Lambda (X-Axis) 5.771812080536913 \tConfidence(Y-axis) 0.6230489705440925\n",
            "Week-3 Lambda (X-Axis) 5.959731543624161 \tConfidence(Y-axis) 0.748060442642361\n",
            "Week-4 Lambda (X-Axis) 6.100671140939598 \tConfidence(Y-axis) 0.8559050696700943\n"
          ]
        },
        {
          "output_type": "display_data",
          "data": {
            "text/plain": [
              "<Figure size 720x432 with 1 Axes>"
            ],
            "image/png": "[encoded data removed]"
          },
          "metadata": {
            "needs_background": "light"
          }
        }
      ]
    },
    {
      "cell_type": "markdown",
      "source": [
        "1. The above graphs shows that after week 1 as the weeks progresses, the number of deaths are increasing and thus the MAP for the Lambda parameter is increasing.\n",
        "2. Confidence in MAP value is increasing as the weeks are increasing."
      ],
      "metadata": {
        "id": "1LmP2PFJ0a6S"
      }
    }
  ]
}